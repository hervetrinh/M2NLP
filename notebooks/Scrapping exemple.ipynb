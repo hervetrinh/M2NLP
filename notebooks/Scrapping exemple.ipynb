{
 "cells": [
  {
   "cell_type": "code",
   "execution_count": 1,
   "metadata": {},
   "outputs": [
    {
     "name": "stdout",
     "output_type": "stream",
     "text": [
      "Collecting beautifulsoup4\n",
      "  Downloading beautifulsoup4-4.12.2-py3-none-any.whl (142 kB)\n",
      "\u001b[2K     \u001b[90m━━━━━━━━━━━━━━━━━━━━━━━━━━━━━━━━━━━━━━━\u001b[0m \u001b[32m143.0/143.0 kB\u001b[0m \u001b[31m1.3 MB/s\u001b[0m eta \u001b[36m0:00:00\u001b[0ma \u001b[36m0:00:01\u001b[0m\n",
      "\u001b[?25hCollecting soupsieve>1.2 (from beautifulsoup4)\n",
      "  Downloading soupsieve-2.5-py3-none-any.whl.metadata (4.7 kB)\n",
      "Downloading soupsieve-2.5-py3-none-any.whl (36 kB)\n",
      "Installing collected packages: soupsieve, beautifulsoup4\n",
      "Successfully installed beautifulsoup4-4.12.2 soupsieve-2.5\n"
     ]
    }
   ],
   "source": [
    "!pip install beautifulsoup4"
   ]
  },
  {
   "cell_type": "code",
   "execution_count": 1,
   "metadata": {},
   "outputs": [],
   "source": [
    "url = \"https://helios2.mi.parisdescartes.fr/~nadifmoh/\""
   ]
  },
  {
   "cell_type": "code",
   "execution_count": 2,
   "metadata": {},
   "outputs": [],
   "source": [
    "import requests\n",
    "from bs4 import BeautifulSoup"
   ]
  },
  {
   "cell_type": "code",
   "execution_count": 3,
   "metadata": {},
   "outputs": [],
   "source": [
    "response = requests.get(url)"
   ]
  },
  {
   "cell_type": "code",
   "execution_count": 6,
   "metadata": {},
   "outputs": [],
   "source": [
    "soup = BeautifulSoup(response.text, 'html.parser')"
   ]
  },
  {
   "cell_type": "code",
   "execution_count": 7,
   "metadata": {},
   "outputs": [],
   "source": [
    "links = soup.find_all('a')"
   ]
  },
  {
   "cell_type": "code",
   "execution_count": 8,
   "metadata": {},
   "outputs": [
    {
     "data": {
      "text/plain": [
       "[<a href=\"#\"><h2 id=\"logo\"> MOHAMED NADIF </h2></a>,\n",
       " <a href=\"#\"><p class=\"font_12\" style=\"line-height: 0px; width: auto;\">Home</p></a>,\n",
       " <a href=\"#Publications\"><p class=\"font_12\" style=\"line-height: 0px; width: auto;\">Publications</p></a>,\n",
       " <a href=\"#Teaching\"><p class=\"font_12\" style=\"line-height: 0px; width: auto;\">Teaching</p></a>,\n",
       " <a href=\"#Phd\"><p class=\"font_12\" style=\"line-height: 0px; width: auto;\">Phd-Students</p></a>,\n",
       " <a href=\"#Projects\"><p class=\"font_12\" style=\"line-height: 0px; width: auto;\">Projects</p></a>,\n",
       " <a href=\"http://www.math-info.univ-paris5.fr/~nadifmoh/\"><img alt=\"\" class=\"roundedImage\" height=\"150\" id=\"Mohamed nadif\" src=\"nadif.jpg\" width=\"150\"/></a>,\n",
       " <a href=\"http://www.math-info.univ-paris5.fr/~nadifmoh/Accueil.html\">\"Machine Learning for Data Science\"</a>,\n",
       " <a href=\"http://www.math-info.univ-paris5.fr/~nadifmoh/Accueil.html#\">\"Machine Learning for Data Science\"</a>,\n",
       " <a href=\"https://www.centreborelli.fr/\">University de Paris </a>,\n",
       " <a href=\"https://www.wiley.com/en-us/Co+Clustering%3A+Models%2C+Algorithms+and+Applications-p-9781848214736\">: Co-clustering</a>,\n",
       " <a href=\"http://www.springer.com/statistics/statistical+theory+and+methods/journal/11634\">ADAC</a>,\n",
       " <a href=\"http://www.mi.parisdescartes.fr/Miage/index.html\">Master Miage Mention</a>,\n",
       " <a href=\"http://www.sfc-classification.net/\">SociÃ©tÃ© Francophone de Classification</a>,\n",
       " <a href=\"https://dblp.org/pers/hd/n/Nadif:Mohamed\">DBLP</a>,\n",
       " <a href=\"http://www.ida2020.org/\">IDA</a>,\n",
       " <a href=\"https://aaai.org/Conferences/AAAI-20/\">AAAI</a>,\n",
       " <a href=\"https://lod2020.icas.xyz/\">LOD</a>,\n",
       " <a href=\"https://ecmlpkdd2020.net\">ECML-PKDD</a>,\n",
       " <a href=\"https://ijcai20.org/\">IJCAI</a>,\n",
       " <a href=\"https://ijcai19.org/\">IJCAI</a>,\n",
       " <a href=\"https://aaai.org/Conferences/AAAI-19/\">AAAI</a>,\n",
       " <a href=\"https://lod2019.icas.xyz/\">LOD</a>,\n",
       " <a href=\"http://www.ecmlpkdd2019.org/ \">ECML-PKDD</a>,\n",
       " <a href=\"https://project.inria.fr/sfc2019/\">SFC</a>,\n",
       " <a href=\"http://cap2019.litislab.fr/\"> CAP</a>,\n",
       " <a href=\"http://www.ida2018.org/\">IDA</a>,\n",
       " <a href=\"https://lod2018.icas.xyz/\">LOD</a>,\n",
       " <a href=\"http://www.ecmlpkdd2018.org/ \">ECML-PKDD</a>,\n",
       " <a href=\"http://sfc2018.mi.parisdescartes.fr/\">SFC</a>,\n",
       " <a href=\"http://cap2018.litislab.fr/\"> CAP</a>,\n",
       " <a href=\"http://www.ida2017.org/\">IDA</a>,\n",
       " <a href=\"http://www.ecmlpkdd2017.ijs.si/ \">ECML-PKDD</a>,\n",
       " <a href=\"http://mod2017.taosciences.org/\">MOD</a>,\n",
       " <a href=\"https://ijcai-17.org/\">IJCAI</a>,\n",
       " <a href=\"http://polytech-sfc2017.univ-lyon1.fr/\">SFC</a>,\n",
       " <a href=\"http://cap2017.imag.fr/\"> CAP</a>,\n",
       " <a href=\"http://www.ecmlpkdd2016.org/ \">ECML-PKDD</a>,\n",
       " <a href=\" http://ida2016.blogs.dsv.su.se/\">IDA</a>,\n",
       " <a href=\"http://www.taosciences.it/mod/\">MOD</a>,\n",
       " <a href=\"http://fab.cpsc.ucalgary.ca/2016/ \">FAB</a>,\n",
       " <a href=\"http://bidma.cpsc.ucalgary.ca\">BIDMA</a>,\n",
       " <a href=\" http://aafd-sfc-2016.sciencesconf.org/ \">SFC</a>,\n",
       " <a href=\"http://cap16.lif.univ-mrs.fr/\">CAP</a>,\n",
       " <a href=\"http://www.ecmlpkdd2015.org/ \">ECML-PKDD</a>,\n",
       " <a href=\" http://ida2015.univ-st-etienne.fr/\">IDA</a>,\n",
       " <a href=\" http://www.taosciences.it/mod-2015/\">MOD</a>,\n",
       " <a href=\"http://fab.cpsc.ucalgary.ca/2015/\">FAB</a>,\n",
       " <a href=\"https://ifcs.boku.ac.at/_conference/index.php/ifcs2015/ifcs2015\">IFCS</a>,\n",
       " <a href=\" http://sfc2015.sciencesconf.org/ \"> SFC </a>,\n",
       " <a href=\"http://www.ecmlpkdd2014.org/\">ECML-PKDD</a>,\n",
       " <a href=\" http://www.ida2014.org/\">IDA</a>,\n",
       " <a href=\" http://sfc2014.conferences-it.com/\">SFC</a>,\n",
       " <a href=\"http://cap2014.sciencesconf.org/\">CAP</a>,\n",
       " <a href=\"http://www.ecmlpkdd2013.org/\">ECML-PKDD</a>,\n",
       " <a href=\"http://ida2013.org\">IDA</a>,\n",
       " <a href=\"https://www.tilburguniversity.edu/about/schools/socialsciences/organization/departments/methodology-statistics/organized-conferences/\">IFCS </a>,\n",
       " <a href=\"http://www.sfc2013.lu/\">SFC</a>,\n",
       " <a href=\"http://cap2013.sciencesconf.org/\">CAP</a>,\n",
       " <a href=\"https://www.irit.fr/EGC2013/\">EGC</a>,\n",
       " <a href=\"http://ieeexplore.ieee.org/xpl/aboutJournal.jsp?punumber=34\">TPAMI</a>,\n",
       " <a href=\"http://ieeexplore.ieee.org/xpl/RecentIssue.jsp?punumber=5962385\">TNNLS</a>,\n",
       " <a href=\"http://ieeexplore.ieee.org/xpl/RecentIssue.jsp?punumber=69\">TKDE</a>,\n",
       " <a href=\"http://www.springer.com/statistics/statistical+theory+and+methods/journal/11634\">ADAC</a>,\n",
       " <a href=\"http://www.journals.elsevier.com/pattern-recognition/\">(PR)</a>,\n",
       " <a href=\"http://www.journals.elsevier.com/computational-statistics-and-data-analysis/\">CSDA</a>,\n",
       " <a href=\"https://link.springer.com/journal/11222\">SC</a>,\n",
       " <a href=\"https://jbhi.embs.org/\">JBHI</a>,\n",
       " <a href=\"http://www.math-info.univ-paris5.fr/~nadifmoh/Accueil.html\">Master-MLDS</a>,\n",
       " <a href=\"http://www.math-info.univ-paris5.fr/~nadifmoh/Accueil.html\">Master-MLDS</a>,\n",
       " <a href=\"http://www.math-info.univ-paris5.fr/~nadifmoh/Accueil.html\">Master-MLDS</a>,\n",
       " <a href=\"http://www.theses.fr/s222275\">Paul Riverain</a>,\n",
       " <a href=\"http://www.theses.fr/s222275\">Mira Ait Saada</a>,\n",
       " <a href=\"https://fr.linkedin.com/in/rafika-boutalbi-8a573bab/fr\">Rafika Boutalbi</a>,\n",
       " <a href=\"https://fr.linkedin.com/in/stanislas-morbieu\"> Stanislas Morbieu</a>,\n",
       " <a href=\"\">MickaÃ«l Febrissy</a>,\n",
       " <a href=\"https://fr.linkedin.com/in/louis-geiler-48635895\">Louis Geiler</a>,\n",
       " <a href=\"https://www.sciencespo.fr/centre-etudes-europeennes/fr/chercheur/florence-ecormier-nocca\">Florence Nocca</a>,\n",
       " <a href=\"https://sites.google.com/site/charlottelaclau/home\">Charlotte LACLAU</a>,\n",
       " <a href=\"https://c3.nasa.gov/dashlink/members/420/\">Mohamed Cherif Dani</a>,\n",
       " <a href=\"http://saghiles.github.io/\"> Aghiles SALAH</a>,\n",
       " <a href=\"https://scholar.google.fr/citations?user=96ENcE8AAAAJ&amp;hl=fr\">Melissa AILEM</a>,\n",
       " <a href=\"http://dblp.uni-trier.de/pers/hd/a/Allab:Kais\">Kais ALLAB</a>,\n",
       " <a href=\"http://dblp.uni-trier.de/pers/hd/m/M=eacute=doc:Nicolas\">Nicolas MÃ©doc</a>,\n",
       " <a href=\"https://www.thalesgroup.com/fr\">Thales</a>,\n",
       " <a href=\"https://brigad.co\">Brigad</a>,\n",
       " <a href=\"trinov.com\">Trinov</a>,\n",
       " <a href=\"kernix.com\">Kernix</a>,\n",
       " <a href=\"http://www.hds.utc.fr/classel\">ClasSel</a>]"
      ]
     },
     "execution_count": 8,
     "metadata": {},
     "output_type": "execute_result"
    }
   ],
   "source": [
    "links"
   ]
  },
  {
   "cell_type": "code",
   "execution_count": 9,
   "metadata": {},
   "outputs": [
    {
     "name": "stdout",
     "output_type": "stream",
     "text": [
      "#\n",
      "#\n",
      "#Publications\n",
      "#Teaching\n",
      "#Phd\n",
      "#Projects\n",
      "http://www.math-info.univ-paris5.fr/~nadifmoh/\n",
      "http://www.math-info.univ-paris5.fr/~nadifmoh/Accueil.html\n",
      "http://www.math-info.univ-paris5.fr/~nadifmoh/Accueil.html#\n",
      "https://www.centreborelli.fr/\n",
      "https://www.wiley.com/en-us/Co+Clustering%3A+Models%2C+Algorithms+and+Applications-p-9781848214736\n",
      "http://www.springer.com/statistics/statistical+theory+and+methods/journal/11634\n",
      "http://www.mi.parisdescartes.fr/Miage/index.html\n",
      "http://www.sfc-classification.net/\n",
      "https://dblp.org/pers/hd/n/Nadif:Mohamed\n",
      "http://www.ida2020.org/\n",
      "https://aaai.org/Conferences/AAAI-20/\n",
      "https://lod2020.icas.xyz/\n",
      "https://ecmlpkdd2020.net\n",
      "https://ijcai20.org/\n",
      "https://ijcai19.org/\n",
      "https://aaai.org/Conferences/AAAI-19/\n",
      "https://lod2019.icas.xyz/\n",
      "http://www.ecmlpkdd2019.org/ \n",
      "https://project.inria.fr/sfc2019/\n",
      "http://cap2019.litislab.fr/\n",
      "http://www.ida2018.org/\n",
      "https://lod2018.icas.xyz/\n",
      "http://www.ecmlpkdd2018.org/ \n",
      "http://sfc2018.mi.parisdescartes.fr/\n",
      "http://cap2018.litislab.fr/\n",
      "http://www.ida2017.org/\n",
      "http://www.ecmlpkdd2017.ijs.si/ \n",
      "http://mod2017.taosciences.org/\n",
      "https://ijcai-17.org/\n",
      "http://polytech-sfc2017.univ-lyon1.fr/\n",
      "http://cap2017.imag.fr/\n",
      "http://www.ecmlpkdd2016.org/ \n",
      " http://ida2016.blogs.dsv.su.se/\n",
      "http://www.taosciences.it/mod/\n",
      "http://fab.cpsc.ucalgary.ca/2016/ \n",
      "http://bidma.cpsc.ucalgary.ca\n",
      " http://aafd-sfc-2016.sciencesconf.org/ \n",
      "http://cap16.lif.univ-mrs.fr/\n",
      "http://www.ecmlpkdd2015.org/ \n",
      " http://ida2015.univ-st-etienne.fr/\n",
      " http://www.taosciences.it/mod-2015/\n",
      "http://fab.cpsc.ucalgary.ca/2015/\n",
      "https://ifcs.boku.ac.at/_conference/index.php/ifcs2015/ifcs2015\n",
      " http://sfc2015.sciencesconf.org/ \n",
      "http://www.ecmlpkdd2014.org/\n",
      " http://www.ida2014.org/\n",
      " http://sfc2014.conferences-it.com/\n",
      "http://cap2014.sciencesconf.org/\n",
      "http://www.ecmlpkdd2013.org/\n",
      "http://ida2013.org\n",
      "https://www.tilburguniversity.edu/about/schools/socialsciences/organization/departments/methodology-statistics/organized-conferences/\n",
      "http://www.sfc2013.lu/\n",
      "http://cap2013.sciencesconf.org/\n",
      "https://www.irit.fr/EGC2013/\n",
      "http://ieeexplore.ieee.org/xpl/aboutJournal.jsp?punumber=34\n",
      "http://ieeexplore.ieee.org/xpl/RecentIssue.jsp?punumber=5962385\n",
      "http://ieeexplore.ieee.org/xpl/RecentIssue.jsp?punumber=69\n",
      "http://www.springer.com/statistics/statistical+theory+and+methods/journal/11634\n",
      "http://www.journals.elsevier.com/pattern-recognition/\n",
      "http://www.journals.elsevier.com/computational-statistics-and-data-analysis/\n",
      "https://link.springer.com/journal/11222\n",
      "https://jbhi.embs.org/\n",
      "http://www.math-info.univ-paris5.fr/~nadifmoh/Accueil.html\n",
      "http://www.math-info.univ-paris5.fr/~nadifmoh/Accueil.html\n",
      "http://www.math-info.univ-paris5.fr/~nadifmoh/Accueil.html\n",
      "http://www.theses.fr/s222275\n",
      "http://www.theses.fr/s222275\n",
      "https://fr.linkedin.com/in/rafika-boutalbi-8a573bab/fr\n",
      "https://fr.linkedin.com/in/stanislas-morbieu\n",
      "\n",
      "https://fr.linkedin.com/in/louis-geiler-48635895\n",
      "https://www.sciencespo.fr/centre-etudes-europeennes/fr/chercheur/florence-ecormier-nocca\n",
      "https://sites.google.com/site/charlottelaclau/home\n",
      "https://c3.nasa.gov/dashlink/members/420/\n",
      "http://saghiles.github.io/\n",
      "https://scholar.google.fr/citations?user=96ENcE8AAAAJ&hl=fr\n",
      "http://dblp.uni-trier.de/pers/hd/a/Allab:Kais\n",
      "http://dblp.uni-trier.de/pers/hd/m/M=eacute=doc:Nicolas\n",
      "https://www.thalesgroup.com/fr\n",
      "https://brigad.co\n",
      "trinov.com\n",
      "kernix.com\n",
      "http://www.hds.utc.fr/classel\n"
     ]
    }
   ],
   "source": [
    "for link in links:\n",
    "    print(link.get('href'))"
   ]
  },
  {
   "cell_type": "code",
   "execution_count": 10,
   "metadata": {},
   "outputs": [],
   "source": [
    "from lxml import html #Pour XPath"
   ]
  },
  {
   "cell_type": "code",
   "execution_count": 11,
   "metadata": {},
   "outputs": [],
   "source": [
    "tree = html.fromstring(response.content)"
   ]
  },
  {
   "cell_type": "code",
   "execution_count": 12,
   "metadata": {},
   "outputs": [],
   "source": [
    "li_elements = tree.xpath('//*[@id=\"perso\"]/div[2]/ul/li')"
   ]
  },
  {
   "cell_type": "code",
   "execution_count": 13,
   "metadata": {},
   "outputs": [
    {
     "name": "stdout",
     "output_type": "stream",
     "text": [
      "\n",
      "\t\t\t\t\t\t\t\t\t Professor in Machine Learning \n",
      "\t\t\t\t\t\t\t\t\n",
      "\n",
      "\t\t\t\t\t\t\t\t\t Head of the \"Machine Learning for Data Science\" Team\n",
      "\t\t\t\t\t\t\t\t\n",
      "\n",
      "\t\t\t\t\t\t\t\t\t Director of the \"Machine Learning for Data Science\" Master\n",
      "\t\t\t\t\t\t\t\t\n",
      "\n",
      "\t\t\t\t\t\t\t\t\t Centre BORELLI, University de Paris   45, rue des Saints Pères, 75270, Paris \n",
      "\t\t\t\t\t\t\t\t\n",
      "\n",
      "\t\t\t\t\t\t\t\t\tmohamed.nadif@parisdescartes.fr\n",
      "\t\t\t\t\t\t\t\t\n",
      "\n",
      "\t\t\t\t\t\t\t\t\tTel : (+33) (0)1 76 53 03 08\n",
      "\t\t\t\t\t\t\t\t\n",
      "\n",
      "\t\t\t\t\t\t\t\t\tOffice : 705 O  \n",
      "\t\t\t\t\t\t\t\t\t\n",
      "                                \n"
     ]
    }
   ],
   "source": [
    "for li in li_elements:\n",
    "    print(li.text_content())"
   ]
  },
  {
   "cell_type": "code",
   "execution_count": null,
   "metadata": {},
   "outputs": [],
   "source": []
  }
 ],
 "metadata": {
  "kernelspec": {
   "display_name": "base",
   "language": "python",
   "name": "python3"
  },
  "language_info": {
   "codemirror_mode": {
    "name": "ipython",
    "version": 3
   },
   "file_extension": ".py",
   "mimetype": "text/x-python",
   "name": "python",
   "nbconvert_exporter": "python",
   "pygments_lexer": "ipython3",
   "version": "3.11.5"
  }
 },
 "nbformat": 4,
 "nbformat_minor": 2
}
