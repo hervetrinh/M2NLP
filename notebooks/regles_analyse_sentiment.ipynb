{
  "nbformat": 4,
  "nbformat_minor": 0,
  "metadata": {
    "colab": {
      "provenance": []
    },
    "kernelspec": {
      "name": "python3",
      "display_name": "Python 3"
    },
    "language_info": {
      "name": "python"
    }
  },
  "cells": [
    {
      "cell_type": "code",
      "execution_count": null,
      "metadata": {
        "id": "y243oX_QmUUr"
      },
      "outputs": [],
      "source": [
        "def analyse_sentiment(text):\n",
        "  mots_postifs = [\"heureux\", \"merveilleux\", \"fantastique\", \"super\"]\n",
        "  mots_negatifs = [\"triste\", \"mauvais\", \"décevant\", \"nul\"]\n",
        "\n",
        "  # Tokenization\n",
        "  tokens = text.split()\n",
        "\n",
        "  # Autres preprocessing vu auparavant\n",
        "\n",
        "  nb_mots_positifs = sum(1 for mot in tokens if mot in mots_postifs)\n",
        "  nb_mots_negatifs = sum(1 for mot in tokens if mot in mots_negatifs)\n",
        "\n",
        "  if nb_mots_positifs > nb_mots_negatifs:\n",
        "    return \"Positif\"\n",
        "\n",
        "  elif nb_mots_negatifs > nb_mots_positifs:\n",
        "    return \"Negatif\"\n",
        "  else:\n",
        "    return \"Neutre\""
      ]
    },
    {
      "cell_type": "code",
      "source": [
        "analyse_sentiment(\"Le film était super\")"
      ],
      "metadata": {
        "colab": {
          "base_uri": "https://localhost:8080/",
          "height": 35
        },
        "id": "q0oqYP-3nUKh",
        "outputId": "adf739f9-e242-440a-ec79-1bedb151400f"
      },
      "execution_count": null,
      "outputs": [
        {
          "output_type": "execute_result",
          "data": {
            "text/plain": [
              "'Positif'"
            ],
            "application/vnd.google.colaboratory.intrinsic+json": {
              "type": "string"
            }
          },
          "metadata": {},
          "execution_count": 8
        }
      ]
    },
    {
      "cell_type": "code",
      "source": [],
      "metadata": {
        "id": "qatzD5D8nYwl"
      },
      "execution_count": null,
      "outputs": []
    }
  ]
}