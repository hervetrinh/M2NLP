{
  "cells": [
    {
      "cell_type": "code",
      "execution_count": 1,
      "metadata": {
        "colab": {
          "base_uri": "https://localhost:8080/"
        },
        "id": "ptLOjdyENUuU",
        "outputId": "4a7cabcb-9eb0-4cfb-ae20-a052542c2db6"
      },
      "outputs": [
        {
          "name": "stdout",
          "output_type": "stream",
          "text": [
            "Reading package lists... Done\n",
            "Building dependency tree... Done\n",
            "Reading state information... Done\n",
            "The following additional packages will be installed:\n",
            "  tesseract-ocr-eng tesseract-ocr-osd\n",
            "The following NEW packages will be installed:\n",
            "  tesseract-ocr tesseract-ocr-eng tesseract-ocr-osd\n",
            "0 upgraded, 3 newly installed, 0 to remove and 15 not upgraded.\n",
            "Need to get 4,816 kB of archives.\n",
            "After this operation, 15.6 MB of additional disk space will be used.\n",
            "Get:1 http://archive.ubuntu.com/ubuntu jammy/universe amd64 tesseract-ocr-eng all 1:4.00~git30-7274cfa-1.1 [1,591 kB]\n",
            "Get:2 http://archive.ubuntu.com/ubuntu jammy/universe amd64 tesseract-ocr-osd all 1:4.00~git30-7274cfa-1.1 [2,990 kB]\n",
            "Get:3 http://archive.ubuntu.com/ubuntu jammy/universe amd64 tesseract-ocr amd64 4.1.1-2.1build1 [236 kB]\n",
            "Fetched 4,816 kB in 2s (2,922 kB/s)\n",
            "debconf: unable to initialize frontend: Dialog\n",
            "debconf: (No usable dialog-like program is installed, so the dialog based frontend cannot be used. at /usr/share/perl5/Debconf/FrontEnd/Dialog.pm line 78, <> line 3.)\n",
            "debconf: falling back to frontend: Readline\n",
            "debconf: unable to initialize frontend: Readline\n",
            "debconf: (This frontend requires a controlling tty.)\n",
            "debconf: falling back to frontend: Teletype\n",
            "dpkg-preconfigure: unable to re-open stdin: \n",
            "Selecting previously unselected package tesseract-ocr-eng.\n",
            "(Reading database ... 120899 files and directories currently installed.)\n",
            "Preparing to unpack .../tesseract-ocr-eng_1%3a4.00~git30-7274cfa-1.1_all.deb ...\n",
            "Unpacking tesseract-ocr-eng (1:4.00~git30-7274cfa-1.1) ...\n",
            "Selecting previously unselected package tesseract-ocr-osd.\n",
            "Preparing to unpack .../tesseract-ocr-osd_1%3a4.00~git30-7274cfa-1.1_all.deb ...\n",
            "Unpacking tesseract-ocr-osd (1:4.00~git30-7274cfa-1.1) ...\n",
            "Selecting previously unselected package tesseract-ocr.\n",
            "Preparing to unpack .../tesseract-ocr_4.1.1-2.1build1_amd64.deb ...\n",
            "Unpacking tesseract-ocr (4.1.1-2.1build1) ...\n",
            "Setting up tesseract-ocr-eng (1:4.00~git30-7274cfa-1.1) ...\n",
            "Setting up tesseract-ocr-osd (1:4.00~git30-7274cfa-1.1) ...\n",
            "Setting up tesseract-ocr (4.1.1-2.1build1) ...\n",
            "Processing triggers for man-db (2.10.2-1) ...\n",
            "Collecting pytesseract\n",
            "  Downloading pytesseract-0.3.10-py3-none-any.whl (14 kB)\n",
            "Requirement already satisfied: packaging>=21.3 in /usr/local/lib/python3.10/dist-packages (from pytesseract) (23.2)\n",
            "Requirement already satisfied: Pillow>=8.0.0 in /usr/local/lib/python3.10/dist-packages (from pytesseract) (9.4.0)\n",
            "Installing collected packages: pytesseract\n",
            "Successfully installed pytesseract-0.3.10\n"
          ]
        }
      ],
      "source": [
        "!sudo apt install tesseract-ocr\n",
        "!pip install pytesseract"
      ]
    },
    {
      "cell_type": "code",
      "execution_count": 2,
      "metadata": {
        "id": "BvXzjq7TNW53"
      },
      "outputs": [],
      "source": [
        "from PIL import Image\n",
        "import pytesseract"
      ]
    },
    {
      "cell_type": "code",
      "execution_count": 3,
      "metadata": {
        "id": "eMRYJjpCNYbR"
      },
      "outputs": [],
      "source": [
        "pytesseract.pytesseract.tesseract_cmd = '/usr/bin/tesseract'\n",
        "# MacOs : pytesseract.pytesseract.tesseract_cmd = '/usr/local/bin/tesseract'\n",
        "# Windows : pytesseract.pytesseract.tesseract_cmd = r'C:\\Program Files\\Tesseract-OCR\\tesseract.exe'"
      ]
    },
    {
      "cell_type": "code",
      "execution_count": 4,
      "metadata": {
        "id": "PJQIKNqmNaQ1"
      },
      "outputs": [],
      "source": [
        "def extract_text_from_image(image_path):\n",
        "    image = Image.open(image_path)\n",
        "    text = pytesseract.image_to_string(image)\n",
        "    return text"
      ]
    },
    {
      "cell_type": "code",
      "execution_count": 5,
      "metadata": {
        "colab": {
          "base_uri": "https://localhost:8080/",
          "height": 139
        },
        "id": "QotXUhSuNbyV",
        "outputId": "1a55a436-bc7c-459c-d9b5-41d576415427"
      },
      "outputs": [
        {
          "data": {
            "application/vnd.google.colaboratory.intrinsic+json": {
              "type": "string"
            },
            "text/plain": [
              "\"Identif.\\nmatricul\\ndepartem\\nplvente\\nsexe\\n\\nage\\nsitfamil\\n\\nanciente\\nesp\\n\\ncodelt\\nnbimpaye\\nmtrejet\\nnbopguic\\n\\nmoyered3\\n\\naveparmo\\nendette\\nengagemt\\n\\nengageme\\nengagemm\\nnbeptwue\\nmoysold3\\nmoyeredi\\nagemvt\\nnbop\\n\\nLibellé\\n\\nMatricule (identitiant client)\\n\\nDépartement de résidence\\n\\nPoint de vente\\n\\nSexe (quilitatif)\\n\\nAge en année\\n\\nSituation familiale (Fmar : marié, Feel ; céliba-\\ntaire, Fdiv ; divorcé, Fuli ; union libre, Psep ; sé-\\nparé de corps, Fyea: veut)\\n\\nAnctenneté de relation en mois\\n\\nCatégorie socio-professionnelie (code num)\\n\\nCode « qualité » client évalué par ta bangue\\nNombre d’impayés en cours\\n\\nMontant total des rejets en francs\\n\\nNombre dopérations par guichet dans le mois\\n\\nMoyenne des mouvements nets créditeurs des 3\\nmois en KF\\n\\n‘Total des avoirs épargne monetaire en francs\\nTaux d’endettement\\n\\nTotal des engagements en francs\\n\\nTotal des engagements court terme en francs\\nTotal des engagements moyen terme en francs\\nNombre de comptes & vue\\n\\nMoyenne des soldes moyens sur 3 mois\\nMoyenne des mouvements créditeurs en KF\\nAge du dernier mouvement (en jours)\\nNombre d’opérations & M-1\\n\\nIdentif.\\noitfactur\\nengageml\\nnbvie\\nmivie\\nnbeparmo:\\nmieparmo\\n\\nnbeparlo\\nmieparlo\\n\\nobliveet\\nmilivret\\nnbeparlt\\nmieparlt\\n\\nnbeparte\\n\\nmteparte\\nnbbon\\nmibon\\n\\nnbpaiecb\\nnbeb\\nnbebptar\\navisepte\\naveparti\\ncartevp\\n\\nsexer\\ncarteypr\\n\\nnbjdebit\\n\\nLibellé\\n\\n‘Montant facturé dans l'année en franes\\nEngagement long terme\\n\\nNombre de produits contrats vie\\n\\nMontant des produits contrats vie en francs\\nNombre de produits épargne monétaire\\nMontant des produits d°épargne monétaire en\\nfranes\\n\\nNombre de produits d'épargne logement\\nMontant des produits dépargne logement en\\nfrancs\\n\\nNombre de comptes sur fivret\\n\\nMontant des comptes sur livret en franes\\nNombre de produits d’épargne long terme\\nMontant des produits d'épargne long terme en\\nfranes\\n\\nNombre de produits épargne d terme\\n\\nMontant des produits épargne & terme\\nNombre de produits bons et certificats\\nMontant des produits bons et certiticats en\\nfrancs\\n\\nNombre de paiements par carte bancaire & M-1\\nNombre total de cartes\\n\\nNombre de cartes point argent\\n\\nTotal des avoirs sur tous les comptes\\n\\nTotal des avoirs épargne financiére en franes\\nPossession de ta carte Visa Premier\\n\\nSexe codé en OVI\\n\\nPossession de la carte Visa Premier codé en\\nol\\n\\nNombre de jours de débit\\n\\x0c\""
            ]
          },
          "execution_count": 5,
          "metadata": {},
          "output_type": "execute_result"
        }
      ],
      "source": [
        "extract_text_from_image(\"exemple.png\")"
      ]
    },
    {
      "cell_type": "code",
      "execution_count": 6,
      "metadata": {
        "colab": {
          "base_uri": "https://localhost:8080/"
        },
        "id": "kGViRGjkNktr",
        "outputId": "574d1ac8-ae30-480b-c293-8f641135189d"
      },
      "outputs": [
        {
          "name": "stdout",
          "output_type": "stream",
          "text": [
            "Identif.\n",
            "matricul\n",
            "departem\n",
            "plvente\n",
            "sexe\n",
            "\n",
            "age\n",
            "sitfamil\n",
            "\n",
            "anciente\n",
            "esp\n",
            "\n",
            "codelt\n",
            "nbimpaye\n",
            "mtrejet\n",
            "nbopguic\n",
            "\n",
            "moyered3\n",
            "\n",
            "aveparmo\n",
            "endette\n",
            "engagemt\n",
            "\n",
            "engageme\n",
            "engagemm\n",
            "nbeptwue\n",
            "moysold3\n",
            "moyeredi\n",
            "agemvt\n",
            "nbop\n",
            "\n",
            "Libellé\n",
            "\n",
            "Matricule (identitiant client)\n",
            "\n",
            "Département de résidence\n",
            "\n",
            "Point de vente\n",
            "\n",
            "Sexe (quilitatif)\n",
            "\n",
            "Age en année\n",
            "\n",
            "Situation familiale (Fmar : marié, Feel ; céliba-\n",
            "taire, Fdiv ; divorcé, Fuli ; union libre, Psep ; sé-\n",
            "paré de corps, Fyea: veut)\n",
            "\n",
            "Anctenneté de relation en mois\n",
            "\n",
            "Catégorie socio-professionnelie (code num)\n",
            "\n",
            "Code « qualité » client évalué par ta bangue\n",
            "Nombre d’impayés en cours\n",
            "\n",
            "Montant total des rejets en francs\n",
            "\n",
            "Nombre dopérations par guichet dans le mois\n",
            "\n",
            "Moyenne des mouvements nets créditeurs des 3\n",
            "mois en KF\n",
            "\n",
            "‘Total des avoirs épargne monetaire en francs\n",
            "Taux d’endettement\n",
            "\n",
            "Total des engagements en francs\n",
            "\n",
            "Total des engagements court terme en francs\n",
            "Total des engagements moyen terme en francs\n",
            "Nombre de comptes & vue\n",
            "\n",
            "Moyenne des soldes moyens sur 3 mois\n",
            "Moyenne des mouvements créditeurs en KF\n",
            "Age du dernier mouvement (en jours)\n",
            "Nombre d’opérations & M-1\n",
            "\n",
            "Identif.\n",
            "oitfactur\n",
            "engageml\n",
            "nbvie\n",
            "mivie\n",
            "nbeparmo:\n",
            "mieparmo\n",
            "\n",
            "nbeparlo\n",
            "mieparlo\n",
            "\n",
            "obliveet\n",
            "milivret\n",
            "nbeparlt\n",
            "mieparlt\n",
            "\n",
            "nbeparte\n",
            "\n",
            "mteparte\n",
            "nbbon\n",
            "mibon\n",
            "\n",
            "nbpaiecb\n",
            "nbeb\n",
            "nbebptar\n",
            "avisepte\n",
            "aveparti\n",
            "cartevp\n",
            "\n",
            "sexer\n",
            "carteypr\n",
            "\n",
            "nbjdebit\n",
            "\n",
            "Libellé\n",
            "\n",
            "‘Montant facturé dans l'année en franes\n",
            "Engagement long terme\n",
            "\n",
            "Nombre de produits contrats vie\n",
            "\n",
            "Montant des produits contrats vie en francs\n",
            "Nombre de produits épargne monétaire\n",
            "Montant des produits d°épargne monétaire en\n",
            "franes\n",
            "\n",
            "Nombre de produits d'épargne logement\n",
            "Montant des produits dépargne logement en\n",
            "francs\n",
            "\n",
            "Nombre de comptes sur fivret\n",
            "\n",
            "Montant des comptes sur livret en franes\n",
            "Nombre de produits d’épargne long terme\n",
            "Montant des produits d'épargne long terme en\n",
            "franes\n",
            "\n",
            "Nombre de produits épargne d terme\n",
            "\n",
            "Montant des produits épargne & terme\n",
            "Nombre de produits bons et certificats\n",
            "Montant des produits bons et certiticats en\n",
            "francs\n",
            "\n",
            "Nombre de paiements par carte bancaire & M-1\n",
            "Nombre total de cartes\n",
            "\n",
            "Nombre de cartes point argent\n",
            "\n",
            "Total des avoirs sur tous les comptes\n",
            "\n",
            "Total des avoirs épargne financiére en franes\n",
            "Possession de ta carte Visa Premier\n",
            "\n",
            "Sexe codé en OVI\n",
            "\n",
            "Possession de la carte Visa Premier codé en\n",
            "ol\n",
            "\n",
            "Nombre de jours de débit\n",
            "\f\n"
          ]
        }
      ],
      "source": [
        "print(_)"
      ]
    },
    {
      "cell_type": "code",
      "execution_count": null,
      "metadata": {
        "id": "13E9zHMZNpVj"
      },
      "outputs": [],
      "source": []
    }
  ],
  "metadata": {
    "colab": {
      "provenance": []
    },
    "kernelspec": {
      "display_name": "Python 3",
      "name": "python3"
    },
    "language_info": {
      "name": "python"
    }
  },
  "nbformat": 4,
  "nbformat_minor": 0
}
