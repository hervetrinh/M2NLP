{
 "cells": [
  {
   "cell_type": "code",
   "execution_count": 5,
   "metadata": {},
   "outputs": [
    {
     "name": "stdout",
     "output_type": "stream",
     "text": [
      "Collecting jsonlines\n",
      "  Downloading jsonlines-4.0.0-py3-none-any.whl.metadata (1.6 kB)\n",
      "Requirement already satisfied: attrs>=19.2.0 in /Users/hervetrinh/miniconda3/lib/python3.11/site-packages (from jsonlines) (23.1.0)\n",
      "Downloading jsonlines-4.0.0-py3-none-any.whl (8.7 kB)\n",
      "Installing collected packages: jsonlines\n",
      "Successfully installed jsonlines-4.0.0\n",
      "Note: you may need to restart the kernel to use updated packages.\n"
     ]
    }
   ],
   "source": [
    "pip install jsonlines\n"
   ]
  },
  {
   "cell_type": "code",
   "execution_count": 1,
   "metadata": {},
   "outputs": [
    {
     "name": "stderr",
     "output_type": "stream",
     "text": [
      "/Users/hervetrinh/miniconda3/lib/python3.11/site-packages/tqdm/auto.py:21: TqdmWarning: IProgress not found. Please update jupyter and ipywidgets. See https://ipywidgets.readthedocs.io/en/stable/user_install.html\n",
      "  from .autonotebook import tqdm as notebook_tqdm\n",
      "2023-12-07 16:47:57.777298: I tensorflow/core/platform/cpu_feature_guard.cc:182] This TensorFlow binary is optimized to use available CPU instructions in performance-critical operations.\n",
      "To enable the following instructions: AVX2 AVX512F AVX512_VNNI FMA, in other operations, rebuild TensorFlow with the appropriate compiler flags.\n"
     ]
    }
   ],
   "source": [
    "import jsonlines\n",
    "import pandas as pd\n",
    "import numpy as np\n",
    "\n",
    "from sklearn.preprocessing import LabelEncoder\n",
    "\n",
    "import evaluate\n",
    "import datasets\n",
    "from transformers import Trainer, TrainingArguments\n",
    "from transformers import CamembertTokenizer, CamembertForSequenceClassification\n",
    "\n",
    "jsonl_file_path = 'data/french_books_reviews.jsonl'\n",
    "\n",
    "l = []\n",
    "with jsonlines.open(jsonl_file_path) as reader:\n",
    "    for line in reader:\n",
    "        l.append(line)\n",
    "\n",
    "\n",
    "df = pd.DataFrame(l)"
   ]
  },
  {
   "cell_type": "code",
   "execution_count": 2,
   "metadata": {},
   "outputs": [
    {
     "data": {
      "text/html": [
       "<div>\n",
       "<style scoped>\n",
       "    .dataframe tbody tr th:only-of-type {\n",
       "        vertical-align: middle;\n",
       "    }\n",
       "\n",
       "    .dataframe tbody tr th {\n",
       "        vertical-align: top;\n",
       "    }\n",
       "\n",
       "    .dataframe thead th {\n",
       "        text-align: right;\n",
       "    }\n",
       "</style>\n",
       "<table border=\"1\" class=\"dataframe\">\n",
       "  <thead>\n",
       "    <tr style=\"text-align: right;\">\n",
       "      <th></th>\n",
       "      <th>book_title</th>\n",
       "      <th>author</th>\n",
       "      <th>reader_review</th>\n",
       "      <th>rating</th>\n",
       "      <th>label</th>\n",
       "    </tr>\n",
       "  </thead>\n",
       "  <tbody>\n",
       "    <tr>\n",
       "      <th>0</th>\n",
       "      <td>Le Démon de la Colline aux Loups</td>\n",
       "      <td>Dimitri Rouchon-Borie</td>\n",
       "      <td>Ce n'est pas le premier roman à aborder les th...</td>\n",
       "      <td>5.0</td>\n",
       "      <td>1</td>\n",
       "    </tr>\n",
       "    <tr>\n",
       "      <th>1</th>\n",
       "      <td>Simple</td>\n",
       "      <td>Marie-Aude Murail</td>\n",
       "      <td>Simple, alias Barnabé, est un jeune homme de 2...</td>\n",
       "      <td>4.0</td>\n",
       "      <td>1</td>\n",
       "    </tr>\n",
       "    <tr>\n",
       "      <th>2</th>\n",
       "      <td>La plus secrète mémoire des hommes</td>\n",
       "      <td>Mohamed Mbougar Sarr</td>\n",
       "      <td>Pour écrire La plus secrète mémoire des hommes...</td>\n",
       "      <td>4.0</td>\n",
       "      <td>1</td>\n",
       "    </tr>\n",
       "    <tr>\n",
       "      <th>3</th>\n",
       "      <td>Trancher</td>\n",
       "      <td>Amélie Cordonnier</td>\n",
       "      <td>« La violence d'Aurélien est revenue. Par la f...</td>\n",
       "      <td>3.5</td>\n",
       "      <td>0</td>\n",
       "    </tr>\n",
       "    <tr>\n",
       "      <th>4</th>\n",
       "      <td>La guerre d'Alan, tome 2</td>\n",
       "      <td>Emmanuel Guibert</td>\n",
       "      <td>Dans ce second album de La Guerre d’Alan, Emma...</td>\n",
       "      <td>5.0</td>\n",
       "      <td>1</td>\n",
       "    </tr>\n",
       "    <tr>\n",
       "      <th>...</th>\n",
       "      <td>...</td>\n",
       "      <td>...</td>\n",
       "      <td>...</td>\n",
       "      <td>...</td>\n",
       "      <td>...</td>\n",
       "    </tr>\n",
       "    <tr>\n",
       "      <th>9653</th>\n",
       "      <td>Un grand méchant loup !</td>\n",
       "      <td>Geoffroy de Pennart</td>\n",
       "      <td>Geoffroy de Pennart est un auteur-illustrateur...</td>\n",
       "      <td>4.0</td>\n",
       "      <td>1</td>\n",
       "    </tr>\n",
       "    <tr>\n",
       "      <th>9654</th>\n",
       "      <td>Travailler: La grande affaire de l'humanité</td>\n",
       "      <td>James Suzman</td>\n",
       "      <td>Seule l’énergie permet au vivant de résister à...</td>\n",
       "      <td>4.0</td>\n",
       "      <td>1</td>\n",
       "    </tr>\n",
       "    <tr>\n",
       "      <th>9655</th>\n",
       "      <td>Leur domaine</td>\n",
       "      <td>Jo Nesbø</td>\n",
       "      <td>Sauf que ce n’est pas publié par Gallmeister… ...</td>\n",
       "      <td>4.0</td>\n",
       "      <td>1</td>\n",
       "    </tr>\n",
       "    <tr>\n",
       "      <th>9656</th>\n",
       "      <td>Ivan le terrible</td>\n",
       "      <td>Anne Fine</td>\n",
       "      <td>Un jeune Russe arrive dans l’école du narrateu...</td>\n",
       "      <td>4.0</td>\n",
       "      <td>1</td>\n",
       "    </tr>\n",
       "    <tr>\n",
       "      <th>9657</th>\n",
       "      <td>Les arbres aussi font la guerre</td>\n",
       "      <td>Francis Martin</td>\n",
       "      <td>Difficile d’imaginer les agressions subies par...</td>\n",
       "      <td>4.5</td>\n",
       "      <td>1</td>\n",
       "    </tr>\n",
       "  </tbody>\n",
       "</table>\n",
       "<p>9658 rows × 5 columns</p>\n",
       "</div>"
      ],
      "text/plain": [
       "                                       book_title                 author  \\\n",
       "0                Le Démon de la Colline aux Loups  Dimitri Rouchon-Borie   \n",
       "1                                          Simple      Marie-Aude Murail   \n",
       "2              La plus secrète mémoire des hommes   Mohamed Mbougar Sarr   \n",
       "3                                        Trancher      Amélie Cordonnier   \n",
       "4                        La guerre d'Alan, tome 2       Emmanuel Guibert   \n",
       "...                                           ...                    ...   \n",
       "9653                      Un grand méchant loup !    Geoffroy de Pennart   \n",
       "9654  Travailler: La grande affaire de l'humanité           James Suzman   \n",
       "9655                                 Leur domaine               Jo Nesbø   \n",
       "9656                             Ivan le terrible              Anne Fine   \n",
       "9657              Les arbres aussi font la guerre         Francis Martin   \n",
       "\n",
       "                                          reader_review  rating  label  \n",
       "0     Ce n'est pas le premier roman à aborder les th...     5.0      1  \n",
       "1     Simple, alias Barnabé, est un jeune homme de 2...     4.0      1  \n",
       "2     Pour écrire La plus secrète mémoire des hommes...     4.0      1  \n",
       "3     « La violence d'Aurélien est revenue. Par la f...     3.5      0  \n",
       "4     Dans ce second album de La Guerre d’Alan, Emma...     5.0      1  \n",
       "...                                                 ...     ...    ...  \n",
       "9653  Geoffroy de Pennart est un auteur-illustrateur...     4.0      1  \n",
       "9654  Seule l’énergie permet au vivant de résister à...     4.0      1  \n",
       "9655  Sauf que ce n’est pas publié par Gallmeister… ...     4.0      1  \n",
       "9656  Un jeune Russe arrive dans l’école du narrateu...     4.0      1  \n",
       "9657  Difficile d’imaginer les agressions subies par...     4.5      1  \n",
       "\n",
       "[9658 rows x 5 columns]"
      ]
     },
     "execution_count": 2,
     "metadata": {},
     "output_type": "execute_result"
    }
   ],
   "source": [
    "df"
   ]
  },
  {
   "cell_type": "code",
   "execution_count": 3,
   "metadata": {},
   "outputs": [
    {
     "data": {
      "text/plain": [
       "label\n",
       " 1    6670\n",
       " 0    2129\n",
       "-1     859\n",
       "Name: count, dtype: int64"
      ]
     },
     "execution_count": 3,
     "metadata": {},
     "output_type": "execute_result"
    }
   ],
   "source": [
    "df.label.value_counts()"
   ]
  },
  {
   "cell_type": "code",
   "execution_count": 4,
   "metadata": {},
   "outputs": [
    {
     "data": {
      "text/html": [
       "<div>\n",
       "<style scoped>\n",
       "    .dataframe tbody tr th:only-of-type {\n",
       "        vertical-align: middle;\n",
       "    }\n",
       "\n",
       "    .dataframe tbody tr th {\n",
       "        vertical-align: top;\n",
       "    }\n",
       "\n",
       "    .dataframe thead th {\n",
       "        text-align: right;\n",
       "    }\n",
       "</style>\n",
       "<table border=\"1\" class=\"dataframe\">\n",
       "  <thead>\n",
       "    <tr style=\"text-align: right;\">\n",
       "      <th></th>\n",
       "      <th>book_title</th>\n",
       "      <th>author</th>\n",
       "      <th>reader_review</th>\n",
       "      <th>rating</th>\n",
       "      <th>label</th>\n",
       "    </tr>\n",
       "  </thead>\n",
       "  <tbody>\n",
       "    <tr>\n",
       "      <th>32</th>\n",
       "      <td>Sable bleu</td>\n",
       "      <td>Yves Grevet</td>\n",
       "      <td>C'est vrai, je ne suis pas le public ciblé, pu...</td>\n",
       "      <td>2.0</td>\n",
       "      <td>-1</td>\n",
       "    </tr>\n",
       "    <tr>\n",
       "      <th>88</th>\n",
       "      <td>Jeux de ficelle</td>\n",
       "      <td>Nina Vincent</td>\n",
       "      <td>Les enfants aiment toujours autant jouer avec ...</td>\n",
       "      <td>2.5</td>\n",
       "      <td>-1</td>\n",
       "    </tr>\n",
       "    <tr>\n",
       "      <th>171</th>\n",
       "      <td>Vous faites quoi pour Noël ?</td>\n",
       "      <td>Carène Ponte</td>\n",
       "      <td>Avec un titre pareil, on se doute que ce roman...</td>\n",
       "      <td>2.0</td>\n",
       "      <td>-1</td>\n",
       "    </tr>\n",
       "    <tr>\n",
       "      <th>209</th>\n",
       "      <td>La Vérité sur la lumière</td>\n",
       "      <td>ÓLAFSDÓTTIR AUDUR AVA</td>\n",
       "      <td>Le mois de décembre n’a pas été un bon cru pou...</td>\n",
       "      <td>2.5</td>\n",
       "      <td>-1</td>\n",
       "    </tr>\n",
       "    <tr>\n",
       "      <th>240</th>\n",
       "      <td>Un c'est bien, deux c'est mieux, tome 1</td>\n",
       "      <td>Dana Blue</td>\n",
       "      <td>Voici que j'achève, avec ce roman, les cinq ou...</td>\n",
       "      <td>1.0</td>\n",
       "      <td>-1</td>\n",
       "    </tr>\n",
       "    <tr>\n",
       "      <th>...</th>\n",
       "      <td>...</td>\n",
       "      <td>...</td>\n",
       "      <td>...</td>\n",
       "      <td>...</td>\n",
       "      <td>...</td>\n",
       "    </tr>\n",
       "    <tr>\n",
       "      <th>9627</th>\n",
       "      <td>La définition du bonheur</td>\n",
       "      <td>Catherine Cusset</td>\n",
       "      <td>Contrairement à ce que pourrait laisser entend...</td>\n",
       "      <td>2.5</td>\n",
       "      <td>-1</td>\n",
       "    </tr>\n",
       "    <tr>\n",
       "      <th>9628</th>\n",
       "      <td>Reine Kannon Ka, la vérité interdite</td>\n",
       "      <td>Apollo Blueskin</td>\n",
       "      <td>Il y a huit mille ans, un gigantesque vaisseau...</td>\n",
       "      <td>1.5</td>\n",
       "      <td>-1</td>\n",
       "    </tr>\n",
       "    <tr>\n",
       "      <th>9636</th>\n",
       "      <td>L'Unique goutte de sang</td>\n",
       "      <td>Arnaud Rozan</td>\n",
       "      <td>Peut-on radiographier la haine, disséquer les ...</td>\n",
       "      <td>2.5</td>\n",
       "      <td>-1</td>\n",
       "    </tr>\n",
       "    <tr>\n",
       "      <th>9650</th>\n",
       "      <td>La France n'a pas dit son dernier mot</td>\n",
       "      <td>Éric Zemmour</td>\n",
       "      <td>Après le retentissant succès du « Suicide fran...</td>\n",
       "      <td>2.5</td>\n",
       "      <td>-1</td>\n",
       "    </tr>\n",
       "    <tr>\n",
       "      <th>9651</th>\n",
       "      <td>En finir avec l'homme: Chronique d'une imposture</td>\n",
       "      <td>Éliane Viennot</td>\n",
       "      <td>La traduction maladroite de la bible latine de...</td>\n",
       "      <td>2.5</td>\n",
       "      <td>-1</td>\n",
       "    </tr>\n",
       "  </tbody>\n",
       "</table>\n",
       "<p>859 rows × 5 columns</p>\n",
       "</div>"
      ],
      "text/plain": [
       "                                            book_title  \\\n",
       "32                                          Sable bleu   \n",
       "88                                     Jeux de ficelle   \n",
       "171                       Vous faites quoi pour Noël ?   \n",
       "209                           La Vérité sur la lumière   \n",
       "240            Un c'est bien, deux c'est mieux, tome 1   \n",
       "...                                                ...   \n",
       "9627                          La définition du bonheur   \n",
       "9628              Reine Kannon Ka, la vérité interdite   \n",
       "9636                           L'Unique goutte de sang   \n",
       "9650             La France n'a pas dit son dernier mot   \n",
       "9651  En finir avec l'homme: Chronique d'une imposture   \n",
       "\n",
       "                      author  \\\n",
       "32               Yves Grevet   \n",
       "88              Nina Vincent   \n",
       "171             Carène Ponte   \n",
       "209    ÓLAFSDÓTTIR AUDUR AVA   \n",
       "240                Dana Blue   \n",
       "...                      ...   \n",
       "9627        Catherine Cusset   \n",
       "9628         Apollo Blueskin   \n",
       "9636            Arnaud Rozan   \n",
       "9650            Éric Zemmour   \n",
       "9651          Éliane Viennot   \n",
       "\n",
       "                                          reader_review  rating  label  \n",
       "32    C'est vrai, je ne suis pas le public ciblé, pu...     2.0     -1  \n",
       "88    Les enfants aiment toujours autant jouer avec ...     2.5     -1  \n",
       "171   Avec un titre pareil, on se doute que ce roman...     2.0     -1  \n",
       "209   Le mois de décembre n’a pas été un bon cru pou...     2.5     -1  \n",
       "240   Voici que j'achève, avec ce roman, les cinq ou...     1.0     -1  \n",
       "...                                                 ...     ...    ...  \n",
       "9627  Contrairement à ce que pourrait laisser entend...     2.5     -1  \n",
       "9628  Il y a huit mille ans, un gigantesque vaisseau...     1.5     -1  \n",
       "9636  Peut-on radiographier la haine, disséquer les ...     2.5     -1  \n",
       "9650  Après le retentissant succès du « Suicide fran...     2.5     -1  \n",
       "9651  La traduction maladroite de la bible latine de...     2.5     -1  \n",
       "\n",
       "[859 rows x 5 columns]"
      ]
     },
     "execution_count": 4,
     "metadata": {},
     "output_type": "execute_result"
    }
   ],
   "source": [
    "df[df.label == -1]"
   ]
  },
  {
   "cell_type": "code",
   "execution_count": 5,
   "metadata": {},
   "outputs": [
    {
     "name": "stderr",
     "output_type": "stream",
     "text": [
      "/Users/hervetrinh/miniconda3/lib/python3.11/site-packages/sklearn/utils/validation.py:605: FutureWarning: is_sparse is deprecated and will be removed in a future version. Check `isinstance(dtype, pd.SparseDtype)` instead.\n",
      "  if is_sparse(pd_dtype):\n",
      "/Users/hervetrinh/miniconda3/lib/python3.11/site-packages/sklearn/utils/validation.py:614: FutureWarning: is_sparse is deprecated and will be removed in a future version. Check `isinstance(dtype, pd.SparseDtype)` instead.\n",
      "  if is_sparse(pd_dtype) or not is_extension_array_dtype(pd_dtype):\n"
     ]
    }
   ],
   "source": [
    "label_encoder = LabelEncoder()\n",
    "\n",
    "df.label = label_encoder.fit_transform(df.label)"
   ]
  },
  {
   "cell_type": "code",
   "execution_count": 20,
   "metadata": {},
   "outputs": [
    {
     "data": {
      "text/html": [
       "<div>\n",
       "<style scoped>\n",
       "    .dataframe tbody tr th:only-of-type {\n",
       "        vertical-align: middle;\n",
       "    }\n",
       "\n",
       "    .dataframe tbody tr th {\n",
       "        vertical-align: top;\n",
       "    }\n",
       "\n",
       "    .dataframe thead th {\n",
       "        text-align: right;\n",
       "    }\n",
       "</style>\n",
       "<table border=\"1\" class=\"dataframe\">\n",
       "  <thead>\n",
       "    <tr style=\"text-align: right;\">\n",
       "      <th></th>\n",
       "      <th>text</th>\n",
       "      <th>label</th>\n",
       "    </tr>\n",
       "  </thead>\n",
       "  <tbody>\n",
       "    <tr>\n",
       "      <th>0</th>\n",
       "      <td>Ce n'est pas le premier roman à aborder les th...</td>\n",
       "      <td>2</td>\n",
       "    </tr>\n",
       "    <tr>\n",
       "      <th>1</th>\n",
       "      <td>Simple, alias Barnabé, est un jeune homme de 2...</td>\n",
       "      <td>2</td>\n",
       "    </tr>\n",
       "    <tr>\n",
       "      <th>2</th>\n",
       "      <td>Pour écrire La plus secrète mémoire des hommes...</td>\n",
       "      <td>2</td>\n",
       "    </tr>\n",
       "    <tr>\n",
       "      <th>3</th>\n",
       "      <td>« La violence d'Aurélien est revenue. Par la f...</td>\n",
       "      <td>1</td>\n",
       "    </tr>\n",
       "    <tr>\n",
       "      <th>4</th>\n",
       "      <td>Dans ce second album de La Guerre d’Alan, Emma...</td>\n",
       "      <td>2</td>\n",
       "    </tr>\n",
       "    <tr>\n",
       "      <th>...</th>\n",
       "      <td>...</td>\n",
       "      <td>...</td>\n",
       "    </tr>\n",
       "    <tr>\n",
       "      <th>9653</th>\n",
       "      <td>Geoffroy de Pennart est un auteur-illustrateur...</td>\n",
       "      <td>2</td>\n",
       "    </tr>\n",
       "    <tr>\n",
       "      <th>9654</th>\n",
       "      <td>Seule l’énergie permet au vivant de résister à...</td>\n",
       "      <td>2</td>\n",
       "    </tr>\n",
       "    <tr>\n",
       "      <th>9655</th>\n",
       "      <td>Sauf que ce n’est pas publié par Gallmeister… ...</td>\n",
       "      <td>2</td>\n",
       "    </tr>\n",
       "    <tr>\n",
       "      <th>9656</th>\n",
       "      <td>Un jeune Russe arrive dans l’école du narrateu...</td>\n",
       "      <td>2</td>\n",
       "    </tr>\n",
       "    <tr>\n",
       "      <th>9657</th>\n",
       "      <td>Difficile d’imaginer les agressions subies par...</td>\n",
       "      <td>2</td>\n",
       "    </tr>\n",
       "  </tbody>\n",
       "</table>\n",
       "<p>9658 rows × 2 columns</p>\n",
       "</div>"
      ],
      "text/plain": [
       "                                                   text  label\n",
       "0     Ce n'est pas le premier roman à aborder les th...      2\n",
       "1     Simple, alias Barnabé, est un jeune homme de 2...      2\n",
       "2     Pour écrire La plus secrète mémoire des hommes...      2\n",
       "3     « La violence d'Aurélien est revenue. Par la f...      1\n",
       "4     Dans ce second album de La Guerre d’Alan, Emma...      2\n",
       "...                                                 ...    ...\n",
       "9653  Geoffroy de Pennart est un auteur-illustrateur...      2\n",
       "9654  Seule l’énergie permet au vivant de résister à...      2\n",
       "9655  Sauf que ce n’est pas publié par Gallmeister… ...      2\n",
       "9656  Un jeune Russe arrive dans l’école du narrateu...      2\n",
       "9657  Difficile d’imaginer les agressions subies par...      2\n",
       "\n",
       "[9658 rows x 2 columns]"
      ]
     },
     "execution_count": 20,
     "metadata": {},
     "output_type": "execute_result"
    }
   ],
   "source": [
    "df"
   ]
  },
  {
   "cell_type": "code",
   "execution_count": 6,
   "metadata": {},
   "outputs": [],
   "source": [
    "df = df[[\"reader_review\", \"label\"]]\n",
    "\n",
    "df.columns = [\"text\", \"label\"]"
   ]
  },
  {
   "cell_type": "code",
   "execution_count": 8,
   "metadata": {},
   "outputs": [
    {
     "name": "stderr",
     "output_type": "stream",
     "text": [
      "Special tokens have been added in the vocabulary, make sure the associated word embeddings are fine-tuned or trained.\n",
      "Some weights of CamembertForSequenceClassification were not initialized from the model checkpoint at camembert-base and are newly initialized: ['classifier.out_proj.bias', 'classifier.dense.bias', 'classifier.out_proj.weight', 'classifier.dense.weight']\n",
      "You should probably TRAIN this model on a down-stream task to be able to use it for predictions and inference.\n"
     ]
    }
   ],
   "source": [
    "tokenizer = CamembertTokenizer.from_pretrained(\"camembert-base\")\n",
    "model = CamembertForSequenceClassification.from_pretrained('camembert-base', num_labels=3)"
   ]
  },
  {
   "cell_type": "code",
   "execution_count": 10,
   "metadata": {},
   "outputs": [],
   "source": [
    "ds = datasets.Dataset.from_pandas(df)"
   ]
  },
  {
   "cell_type": "code",
   "execution_count": 11,
   "metadata": {},
   "outputs": [
    {
     "data": {
      "text/plain": [
       "Dataset({\n",
       "    features: ['text', 'label'],\n",
       "    num_rows: 9658\n",
       "})"
      ]
     },
     "execution_count": 11,
     "metadata": {},
     "output_type": "execute_result"
    }
   ],
   "source": [
    "ds"
   ]
  },
  {
   "cell_type": "code",
   "execution_count": 12,
   "metadata": {},
   "outputs": [],
   "source": [
    "ds = ds.train_test_split(test_size=0.2)"
   ]
  },
  {
   "cell_type": "code",
   "execution_count": 13,
   "metadata": {},
   "outputs": [
    {
     "name": "stderr",
     "output_type": "stream",
     "text": [
      "Map:   0%|          | 0/7726 [00:00<?, ? examples/s]"
     ]
    },
    {
     "name": "stderr",
     "output_type": "stream",
     "text": [
      "Map: 100%|██████████| 7726/7726 [00:03<00:00, 2265.10 examples/s]\n",
      "Map: 100%|██████████| 1932/1932 [00:00<00:00, 2487.07 examples/s]\n"
     ]
    }
   ],
   "source": [
    "def tokenize_function(examples):\n",
    "    return tokenizer(examples[\"text\"], padding=\"max_length\", truncation=True)\n",
    "\n",
    "\n",
    "tokenized_datasets = ds.map(tokenize_function, batched=True)"
   ]
  },
  {
   "cell_type": "code",
   "execution_count": 14,
   "metadata": {},
   "outputs": [],
   "source": [
    "ds_train = tokenized_datasets[\"train\"]\n",
    "ds_test = tokenized_datasets[\"test\"]"
   ]
  },
  {
   "cell_type": "code",
   "execution_count": 15,
   "metadata": {},
   "outputs": [],
   "source": [
    "training_args = TrainingArguments(output_dir=\"output/\", \n",
    "                                  num_train_epochs=5,\n",
    "                                  logging_dir=\"logs/\",\n",
    "                                  learning_rate=1.e5)"
   ]
  },
  {
   "cell_type": "code",
   "execution_count": 16,
   "metadata": {},
   "outputs": [],
   "source": [
    "metric = evaluate.load(\"accuracy\")"
   ]
  },
  {
   "cell_type": "code",
   "execution_count": 17,
   "metadata": {},
   "outputs": [],
   "source": [
    "def compute_metrics(eval_pred):\n",
    "    logits, labels = eval_pred\n",
    "    predictions = np.argmax(logits, axis=-1)\n",
    "    return metric.compute(predictions=predictions, references=labels)"
   ]
  },
  {
   "cell_type": "code",
   "execution_count": 18,
   "metadata": {},
   "outputs": [],
   "source": [
    "trainer = Trainer(\n",
    "    model=model,\n",
    "    args=training_args,\n",
    "    train_dataset=ds_train,\n",
    "    eval_dataset=ds_test,\n",
    "    compute_metrics=compute_metrics,\n",
    ")"
   ]
  },
  {
   "cell_type": "code",
   "execution_count": 21,
   "metadata": {},
   "outputs": [
    {
     "name": "stderr",
     "output_type": "stream",
     "text": [
      "  0%|          | 17/4830 [14:38<69:04:54, 51.67s/it]\n"
     ]
    }
   ],
   "source": [
    "trainer.train()"
   ]
  },
  {
   "cell_type": "code",
   "execution_count": null,
   "metadata": {},
   "outputs": [],
   "source": []
  }
 ],
 "metadata": {
  "kernelspec": {
   "display_name": "base",
   "language": "python",
   "name": "python3"
  },
  "language_info": {
   "codemirror_mode": {
    "name": "ipython",
    "version": 3
   },
   "file_extension": ".py",
   "mimetype": "text/x-python",
   "name": "python",
   "nbconvert_exporter": "python",
   "pygments_lexer": "ipython3",
   "version": "3.11.5"
  }
 },
 "nbformat": 4,
 "nbformat_minor": 2
}
