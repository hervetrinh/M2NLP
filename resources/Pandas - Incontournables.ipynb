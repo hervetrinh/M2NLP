{
 "cells": [
  {
   "cell_type": "markdown",
   "metadata": {},
   "source": [
    "# Voir les versions de pandas"
   ]
  },
  {
   "cell_type": "code",
   "execution_count": null,
   "metadata": {},
   "outputs": [],
   "source": [
    "import pandas as pd"
   ]
  },
  {
   "cell_type": "code",
   "execution_count": null,
   "metadata": {},
   "outputs": [],
   "source": [
    "pd.__version__"
   ]
  },
  {
   "cell_type": "code",
   "execution_count": null,
   "metadata": {},
   "outputs": [],
   "source": [
    "pd.show_versions()"
   ]
  },
  {
   "cell_type": "markdown",
   "metadata": {},
   "source": [
    "# Créer une série panda manuellement"
   ]
  },
  {
   "cell_type": "code",
   "execution_count": null,
   "metadata": {},
   "outputs": [],
   "source": [
    "import numpy as np"
   ]
  },
  {
   "cell_type": "code",
   "execution_count": null,
   "metadata": {},
   "outputs": [],
   "source": [
    "s = pd.Series([1, 3, 5, np.nan, 6 ,8])"
   ]
  },
  {
   "cell_type": "code",
   "execution_count": null,
   "metadata": {},
   "outputs": [],
   "source": [
    "# Créer la série en la nommant\n",
    "s = pd.Series([1, 3, 5, np.nan, 6 ,8], name = 'serie')"
   ]
  },
  {
   "cell_type": "code",
   "execution_count": null,
   "metadata": {},
   "outputs": [],
   "source": [
    "# Renommer la série\n",
    "s.name = 'serie2'"
   ]
  },
  {
   "cell_type": "code",
   "execution_count": null,
   "metadata": {},
   "outputs": [],
   "source": [
    "# Créer et nommer une série à partir d'une liste, et définir son index\n",
    "s = pd.Series([1, 3, 5, np.nan, 6 ,8], name='serie',\n",
    "              index =['zero', 'un', 'deux', 'trois', 'quatre', 'cinq'])"
   ]
  },
  {
   "cell_type": "code",
   "execution_count": null,
   "metadata": {},
   "outputs": [],
   "source": [
    "s['un']"
   ]
  },
  {
   "cell_type": "code",
   "execution_count": null,
   "metadata": {},
   "outputs": [],
   "source": [
    "# s.count() > ne compte pas la valeur np.nan\n",
    "# s.size > toutes les valeurs sont comptées\n",
    "print(s.count(), ' - ',s.size)"
   ]
  },
  {
   "cell_type": "code",
   "execution_count": null,
   "metadata": {},
   "outputs": [],
   "source": [
    "# créer manuellement une série de type catégorie, non ordonnée\n",
    "s = pd.Series (['m', 'l', 'xs', 's', 'xl'], dtype='category')"
   ]
  },
  {
   "cell_type": "code",
   "execution_count": null,
   "metadata": {},
   "outputs": [],
   "source": [
    "s.cat.ordered # Retourne False"
   ]
  },
  {
   "cell_type": "code",
   "execution_count": null,
   "metadata": {},
   "outputs": [],
   "source": [
    "# Créer manuellement une série de type catégorie ordonnée\n",
    "s2 = pd.Series (['m', 'l', 'xs ', 's', 'xl '])\n",
    "size_type = pd.api.types.CategoricalDtype(categories = ['xs','s','m','l','xl'], ordered=True)\n",
    "s3 = s2.astype(size_type)"
   ]
  },
  {
   "cell_type": "markdown",
   "metadata": {},
   "source": [
    "# Créer un dataframe"
   ]
  },
  {
   "cell_type": "code",
   "execution_count": null,
   "metadata": {},
   "outputs": [],
   "source": [
    "# Manuellement, avec un array numpy et un range de date, en nommant les colonnes\n",
    "df = pd.DataFrame(np.random.randn(6,4), index=dates, columns=list(\"ABCD\"))\n",
    "# list(\"ABCD\") > ['A', 'B', 'C', 'D']"
   ]
  },
  {
   "cell_type": "code",
   "execution_count": null,
   "metadata": {},
   "outputs": [],
   "source": [
    "# Manuellement, à partir de dictionnaires - k, v : v est une liste et sera une colonne du dataframe - k sera son nom\n",
    "df = pd.DataFrame({\n",
    "    \"A\": 1.0,\n",
    "    \"B\": pd.Timestamp(\"20130102\"),\n",
    "    \"C\": pd.Series(1, index = list(range(4)), dtype=\"float32\"),\n",
    "    \"D\": np.array([3] * 4, dtype=\"int32\"),\n",
    "    \"E\": pd.Categorical([\"test\",\"train\",\"test\",\"train\"]),\n",
    "    \"G\": \"foo\"})"
   ]
  },
  {
   "cell_type": "code",
   "execution_count": null,
   "metadata": {},
   "outputs": [],
   "source": [
    "# Manuellement, à partir de dictionnaires - k, v : v est une liste et sera une colonne du dataframe - k sera son nom\n",
    "import string\n",
    "import random\n",
    "df = pd.DataFrame(\n",
    "    {\n",
    "        \"groupe\": [\"Groupe {}\".format(x + 1) for x in range(5)] * 5,\n",
    "        \"Joueur\": random.sample(list(string.ascii_lowercase), 25),\n",
    "        \"Performance\": np.random.uniform(0.200, 0.400, 25),\n",
    "    }\n",
    ")"
   ]
  },
  {
   "cell_type": "code",
   "execution_count": null,
   "metadata": {},
   "outputs": [],
   "source": [
    "#Créer un dataframe à partir d’un dictionnaire de dictionnaires, \n",
    "#dont les clés sont partagées et utilisées pour créer les index du dataframe\n",
    "df=pd.DataFrame({'Attendance': {0: 60, 1: 100, 2: 80,3: 75, 4: 95},\n",
    "                 'Name': {0: 'Olivia', 1: 'John', 2: 'Laura',3: 'Ben',4: 'Kevin'},\n",
    "                 'Obtained Marks': {0: 56, 1: 75, 2: 82, 3: 64, 4: 67}})"
   ]
  },
  {
   "cell_type": "code",
   "execution_count": null,
   "metadata": {},
   "outputs": [],
   "source": [
    "# Créer un dataframe à partir de listes de tuples - 1 tuple > 1 ligne\n",
    "df = pd.DataFrame([\n",
    "    (\"bird\", \"Falconiformes\", 389.0),\n",
    "    (\"bird\", \"Psittaciformes\", 24.0),\n",
    "    (\"mammal\", \"Carnivora\", 80.2),\n",
    "    (\"mammal\", \"Primates\", np.nan),\n",
    "    (\"mammal\", \"Carnivora\", 58)\n",
    "    ],\n",
    "    index=[\"falcon\", \"parrot\", \"lion\", \"monkey\", \"leopard\"],\n",
    "    columns=(\"class\", \"order\", \"max_speed\")\n",
    ")"
   ]
  },
  {
   "cell_type": "code",
   "execution_count": null,
   "metadata": {},
   "outputs": [],
   "source": [
    "# Créer un dataframe à partir de listes de listes - 1 liste > 1 ligne\n",
    "df = pd.DataFrame([\n",
    "    [\"Andre\", \"directeur\", 230],\n",
    "    [\"Barbara\", \"assistante\", 25],\n",
    "    [\"Corinne\", \"comptable\", 35]\n",
    "    ],\n",
    "    columns=(\"nom\", \"fonction\", \"km\")\n",
    ")"
   ]
  },
  {
   "cell_type": "code",
   "execution_count": null,
   "metadata": {},
   "outputs": [],
   "source": [
    "l1 = [\"Caroline\", \"directeur\", 230]\n",
    "l2 = [\"Barbara\", \"assistante\", 25]\n",
    "l3 = [\"Karine\", \"comptable\", 35]\n",
    "df = pd.DataFrame([l1,l2,l3], columns=(\"nom\", \"fonction\", \"kms\"))"
   ]
  },
  {
   "cell_type": "code",
   "execution_count": null,
   "metadata": {},
   "outputs": [],
   "source": [
    "# Créer un dataframe manuellement indexé par des dates\n",
    "dates = pd.date_range(\"20190101\", periods=6)\n",
    "df = pd.DataFrame(np.random.randn(6,4), index=dates)"
   ]
  },
  {
   "cell_type": "markdown",
   "metadata": {},
   "source": [
    "# Créer un dataframe à partir d'un fichier CSV"
   ]
  },
  {
   "cell_type": "code",
   "execution_count": null,
   "metadata": {},
   "outputs": [],
   "source": [
    "#Créer un dataframe à partir de données dans un fichier CSV\n",
    "df = pd.read_csv(r\"C:\\data_folder\\data.csv\")\n",
    "#r > raw file, on laisse tel quel les \\"
   ]
  },
  {
   "cell_type": "code",
   "execution_count": null,
   "metadata": {},
   "outputs": [],
   "source": [
    "# Créer un dataframe à partir de données dans un fichier CSV\n",
    "# Décodage des dates \n",
    "df = pd.read_csv(r\"C:\\data_folder\\data.csv\",parse_dates=True)"
   ]
  },
  {
   "cell_type": "code",
   "execution_count": null,
   "metadata": {},
   "outputs": [],
   "source": [
    "# Créer un dataframe à partir de données dans un fichier CSV\n",
    "# Décodage des dates\n",
    "# Le nom des colonnes est sur la première ligne\n",
    "df = pd.read_csv(r\"C:\\data_folder\\data.csv\",parse_dates=True, index_col=0)"
   ]
  },
  {
   "cell_type": "code",
   "execution_count": null,
   "metadata": {},
   "outputs": [],
   "source": [
    "# Créer un dataframe à partir de données dans un fichier CSV\n",
    "# Décodage des dates\n",
    "# Le nom des colonnes est sur la première ligne\n",
    "# On ne lt qu'une partie des colonnes\n",
    "df = pd.read_csv(r\"C:\\data_folder\\data.csv\",parse_dates=True, index_col=0, usecols=['City', 'State'])\n",
    "# ou alors\n",
    "df = pd.read_csv(r\"C:\\data_folder\\data.csv\",parse_dates=True, index_col=0, usecols=[0:4])"
   ]
  },
  {
   "cell_type": "code",
   "execution_count": null,
   "metadata": {},
   "outputs": [],
   "source": [
    "# On ne lit qu'une partie des lignes\n",
    "df = pd.read_csv('http://bit.ly/uforeports', nrows=3)"
   ]
  },
  {
   "cell_type": "code",
   "execution_count": null,
   "metadata": {},
   "outputs": [],
   "source": [
    "# Créer un Dataframe, en spécifiant l’encodage en latin, en parsant les dates, \n",
    "# et en pointant que le format des dates commencent par les jours (et non les mois - format américain)\n",
    "df = pd.read_csv('bikes.csv', sep=';', encoding='latin1', parse_dates=['Date'], dayfirst=True, index_col='Date')"
   ]
  },
  {
   "cell_type": "code",
   "execution_count": null,
   "metadata": {},
   "outputs": [],
   "source": [
    "# Créer un dataframe en concaténant plusieurs fichiers\n",
    "from glob import glob\n",
    "stock_files = sorted(glob('data/stocks*.csv')) #Liste des fichiers avec le même pattern\n",
    "pd.concat((pd.read_csv(file) for file in stock_files), ignore_index=True)"
   ]
  },
  {
   "cell_type": "markdown",
   "metadata": {},
   "source": [
    "# Créer un dataframe à partir d'un fichier Excel"
   ]
  },
  {
   "cell_type": "code",
   "execution_count": null,
   "metadata": {},
   "outputs": [],
   "source": [
    "# Créer un dataframe à partir de données dans un fichier Excel\n",
    "df = pd.read_excel(\"path/to/data.csv\")"
   ]
  },
  {
   "cell_type": "markdown",
   "metadata": {},
   "source": [
    "# Créer un dataframe à partir de données online"
   ]
  },
  {
   "cell_type": "code",
   "execution_count": null,
   "metadata": {},
   "outputs": [],
   "source": [
    "# Créer un dataframe à partir d’un CSV en ligne\n",
    "import pandas as pd\n",
    "url = (\"https://raw.github.com/pandas-dev/pandas/master/pandas/tests/io/data/csv/tips.csv\")\n",
    "tips = pd.read_csv(url)"
   ]
  },
  {
   "cell_type": "code",
   "execution_count": null,
   "metadata": {},
   "outputs": [],
   "source": [
    "# Créer un dataframe à partir d’un CSV en ligne\n",
    "url = 'https://raw.githubusercontent.com/justmarkham/DAT8/master/data/chipotle.tsv'\n",
    "chipo = pd.read_csv(url, sep = '\\t')"
   ]
  },
  {
   "cell_type": "code",
   "execution_count": null,
   "metadata": {},
   "outputs": [],
   "source": [
    "# Exemples de dataset en ligne\n",
    "drinks = pd.read_csv('http://bit.ly/drinksbycountry')\n",
    "movies = pd.read_csv('http://bit.ly/imdbratings')\n",
    "orders = pd.read_csv('http://bit.ly/chiporders', sep='\\t')\n",
    "stocks = pd.read_csv('http://bit.ly/smallstocks', parse_dates=['Date'])\n",
    "titanic = pd.read_csv('http://bit.ly/kaggletrain')\n",
    "ufo = pd.read_csv('http://bit.ly/uforeports', parse_dates=['Time'])"
   ]
  },
  {
   "cell_type": "markdown",
   "metadata": {},
   "source": [
    "# Créer un dataframe à partir du presse-papier"
   ]
  },
  {
   "cell_type": "code",
   "execution_count": null,
   "metadata": {},
   "outputs": [],
   "source": [
    "# Récupérer facilement des données venant d’Excel ou de Google sheet\n",
    "df = pd.read_clipboard()"
   ]
  },
  {
   "cell_type": "markdown",
   "metadata": {},
   "source": [
    "# Créer un dataframe à partir d'un fichier - Récapitulatif"
   ]
  },
  {
   "cell_type": "raw",
   "metadata": {},
   "source": [
    "Format Type     Data Description      Reader           Writer\n",
    "text                  CSV            read_csv          to_csv\n",
    "text                 JSON            read_json         to_json\n",
    "text                 HTML            read_html         to_html\n",
    "text             Local clipboard  read_clipboard     to_clipboard\n",
    "binary             MS Excel          read_excel        to_excel\n",
    "binary            HDF5 Format        read_hdf           to_hdf\n",
    "binary           Feather Format     read_feather      to_feather\n",
    "binary              Msgpack         read_msgpack      to_msgpack\n",
    "binary               Stata           read_stata        to_stata\n",
    "binary                SAS             read_sas \n",
    "binary        Python Pickle Format   read_pickle       to_pickle\n",
    "SQL                   SQL             read_sql          to_sql\n",
    "SQL             Google Big Query      read_gbq          to_gbq"
   ]
  },
  {
   "cell_type": "markdown",
   "metadata": {},
   "source": [
    "# Créer un dataframe en copiant un df existant"
   ]
  },
  {
   "cell_type": "code",
   "execution_count": null,
   "metadata": {},
   "outputs": [],
   "source": [
    "df2 = df.copy()"
   ]
  },
  {
   "cell_type": "markdown",
   "metadata": {},
   "source": [
    "# Gérer l'affichage du notebook"
   ]
  },
  {
   "cell_type": "code",
   "execution_count": null,
   "metadata": {},
   "outputs": [],
   "source": [
    "# Afficher le setup du nombre maximal de lignes à afficher\n",
    "pd.get_option('display.max_rows')"
   ]
  },
  {
   "cell_type": "code",
   "execution_count": null,
   "metadata": {},
   "outputs": [],
   "source": [
    "# Permettre l’affichage de 40 colonnes du dataframe\n",
    "pd.options.display.max_columns = 40\n",
    "pd.set_option('display.max_rows', None) # affichage de toutes les colonnes\n",
    "pd.reset_option('display.max_rows') # reset du paramètrage"
   ]
  },
  {
   "cell_type": "code",
   "execution_count": null,
   "metadata": {},
   "outputs": [],
   "source": [
    "# Affichage de plus de caractères dans les colonnes\n",
    "pd.get_option('display.max_colwidth')\n",
    "pd.set_option('display.max_colwidth', 1000)"
   ]
  },
  {
   "cell_type": "code",
   "execution_count": null,
   "metadata": {},
   "outputs": [],
   "source": [
    "# Affichage de la précision des nombres\n",
    "pd.set_option('display.precision', 2)"
   ]
  },
  {
   "cell_type": "code",
   "execution_count": null,
   "metadata": {},
   "outputs": [],
   "source": [
    "# Affichage du séparateur de milliers\n",
    "pd.set_option('display.float_format', '{:,}'.format)"
   ]
  },
  {
   "cell_type": "code",
   "execution_count": null,
   "metadata": {},
   "outputs": [],
   "source": [
    "# AFfichage de l’ensemble des paramètrages possibles pour l’affichage\n",
    "import pandas as pd\n",
    "pd.describe_option()\n",
    "pd.describe_option('rows')"
   ]
  },
  {
   "cell_type": "markdown",
   "metadata": {},
   "source": [
    "# Examiner rapidement les caractéristiques d'un dataframe"
   ]
  },
  {
   "cell_type": "code",
   "execution_count": null,
   "metadata": {},
   "outputs": [],
   "source": [
    "# Afficher les 5 premières lignes d’un dataframe\n",
    "df.head()\n",
    "# Afficher les 10 premières lignes d’un dataframe\n",
    "df.head(10)"
   ]
  },
  {
   "cell_type": "code",
   "execution_count": null,
   "metadata": {},
   "outputs": [],
   "source": [
    "# Afficher les 5 dernières lignes d’un dataframe\n",
    "df.tail()\n",
    "# Afficher les 10 dernières lignes d’un dataframe\n",
    "df.tail(10)"
   ]
  },
  {
   "cell_type": "code",
   "execution_count": null,
   "metadata": {},
   "outputs": [],
   "source": [
    "# Afficher les index d'un dataframe > index pandas\n",
    "df.index\n",
    "# Afficher les colonnes d'un dataframe > Index pandas\n",
    "df.columns\n",
    "# Afficher les valeurs d'un dataframe > array numpy\n",
    "df.values"
   ]
  },
  {
   "cell_type": "code",
   "execution_count": null,
   "metadata": {},
   "outputs": [],
   "source": [
    "# Afficher le nom des colonnes d’un dataframe en faisant une boucle\n",
    "for val in df:\n",
    "   print(val)"
   ]
  },
  {
   "cell_type": "code",
   "execution_count": null,
   "metadata": {},
   "outputs": [],
   "source": [
    "# Afficher des statistiques des colonnes numériques d’un dataframe\n",
    "df.describe()\n",
    "#count, mean, std, min, 25%, 50%, 75%, max"
   ]
  },
  {
   "cell_type": "code",
   "execution_count": null,
   "metadata": {},
   "outputs": [],
   "source": [
    "# Afficher des informations générales d’un dataframe (type d’index, noms des colonnes, types des colonnes, mémoire utilisée)\n",
    "df.info()"
   ]
  },
  {
   "cell_type": "code",
   "execution_count": null,
   "metadata": {},
   "outputs": [],
   "source": [
    "# Afficher le nombre de lignes d’un dataframe\n",
    "len(df)"
   ]
  },
  {
   "cell_type": "code",
   "execution_count": null,
   "metadata": {},
   "outputs": [],
   "source": [
    "# Afficher les dimensions d’un dataframe\n",
    "df.shape\n",
    "df.shape[0] # nombre de lignes\n",
    "df.shape[1] # nombre de colonnes"
   ]
  },
  {
   "cell_type": "markdown",
   "metadata": {},
   "source": [
    "# Examiner plus précisément les caractèristiques d'un dataframe"
   ]
  },
  {
   "cell_type": "code",
   "execution_count": null,
   "metadata": {},
   "outputs": [],
   "source": [
    "# Afficher des statistiques des colonnes numériques d’un dataframe, en changeant les quartiles\n",
    "df.describe(percentiles=[.01, .3, .99])\n",
    "#count, mean, std, min, 1%, 30%, 50%, 99%, max"
   ]
  },
  {
   "cell_type": "code",
   "execution_count": null,
   "metadata": {},
   "outputs": [],
   "source": [
    "# Afficher plus de statistiques des colonnes d’un dataframe, numériques ou non\n",
    "df.describe(include=\"all\")\n",
    "#count, unique, top, freq, first, last, mean, std, min, 25%, 50%, 75%, max"
   ]
  },
  {
   "cell_type": "code",
   "execution_count": null,
   "metadata": {},
   "outputs": [],
   "source": [
    "# Afficher plus de statistiques des colonnes d’un dataframe, en fonction de leur type\n",
    "df.describe(include=['object'])"
   ]
  },
  {
   "cell_type": "code",
   "execution_count": null,
   "metadata": {},
   "outputs": [],
   "source": [
    "# Itérer sur l’ensemble des lignes d’un dataframe\n",
    "for index,row in df.iterrows():\n",
    "   print(index,row[\"Col1\"])"
   ]
  },
  {
   "cell_type": "code",
   "execution_count": null,
   "metadata": {},
   "outputs": [],
   "source": [
    "# Afficher les types des colonnes et leur nombre\n",
    "df.dtypes.value_counts()\n",
    "df.dtypes.value_counts(normalize=True) #pourcentage\n",
    "df.get_dtype_counts() # Va être déprécié"
   ]
  },
  {
   "cell_type": "code",
   "execution_count": null,
   "metadata": {},
   "outputs": [],
   "source": [
    "# Sortir des statistiques sur une série\n",
    "df.col1.agg(['mean', 'min', 'max'])"
   ]
  },
  {
   "cell_type": "code",
   "execution_count": null,
   "metadata": {},
   "outputs": [],
   "source": [
    "# Sortir des statistiques sur toutes les séries du dataframe\n",
    "df.agg(['mean', 'min', 'max'])"
   ]
  },
  {
   "cell_type": "code",
   "execution_count": null,
   "metadata": {},
   "outputs": [],
   "source": [
    "# Compter le nombre de valeurs d’une série qui satisfont une condition\n",
    "df.col1.gt(20).count() # combien de valeurs de col1 sont supérieures à 20 ?\n",
    "df.col1.gt(20).mul(100).mean()  # quel pourcentage de valeurs de col1 sont supérieures à 20 ?"
   ]
  },
  {
   "cell_type": "markdown",
   "metadata": {},
   "source": [
    "# Effectuer le profiling d'un dataframe"
   ]
  },
  {
   "cell_type": "code",
   "execution_count": null,
   "metadata": {},
   "outputs": [],
   "source": [
    "import pandas_profiling\n",
    "pandas_profiling.ProfileReport(df)"
   ]
  },
  {
   "cell_type": "markdown",
   "metadata": {},
   "source": [
    "# Ordonner, renommer et supprimer des colonnes"
   ]
  },
  {
   "cell_type": "code",
   "execution_count": null,
   "metadata": {},
   "outputs": [],
   "source": [
    "# Réordonner les colonnes d’un dataframe\n",
    "new_col_order = ['col3','col1', 'col2']\n",
    "new_df = df[new_col_order]"
   ]
  },
  {
   "cell_type": "code",
   "execution_count": null,
   "metadata": {},
   "outputs": [],
   "source": [
    "# Modifier le nom des colonnes du Dataframe avec un dictionnaire\n",
    "df.rename( columns = {\"col1\":\"New Col1\", \"col2\":\"New Col2\" })\n",
    "# ou alors\n",
    "df.rename( columns = {\"col1\":\"New Col1\", \"col2\":\"New Col2\" }, inplace=True) # pour sauvegarder les changements"
   ]
  },
  {
   "cell_type": "code",
   "execution_count": null,
   "metadata": {},
   "outputs": [],
   "source": [
    "# Modifier directement le nom des colonnes\n",
    "df.columns = df.columns.str.replace(' ', '_')"
   ]
  },
  {
   "cell_type": "code",
   "execution_count": null,
   "metadata": {},
   "outputs": [],
   "source": [
    "# Modifier directement le nom des colonnes\n",
    "df.columns = map(str.lower, df.columns)"
   ]
  },
  {
   "cell_type": "code",
   "execution_count": null,
   "metadata": {},
   "outputs": [],
   "source": [
    "# Modifier le nom des colonnes à la création du dataframe\n",
    "df = pd.read_csv(\"df.csv\", header=0, names=new_cols)"
   ]
  },
  {
   "cell_type": "code",
   "execution_count": null,
   "metadata": {},
   "outputs": [],
   "source": [
    "# Ajouter un prefixe ou un suffixe aux noms des colonnes\n",
    "df.add_prefix('X_')\n",
    "df.add_suffix('_Y')"
   ]
  },
  {
   "cell_type": "code",
   "execution_count": null,
   "metadata": {},
   "outputs": [],
   "source": [
    "# Inverser l’ordre des colonnes\n",
    "df.loc[:, ::-1]"
   ]
  },
  {
   "cell_type": "code",
   "execution_count": null,
   "metadata": {},
   "outputs": [],
   "source": [
    "# Supprimer des colonnes d’un dataframe\n",
    "df.drop(['Col1','Col2'], axis=1, inplace=True) # inplace > sauvegarde des résultats\n",
    "# ou alors\n",
    "df.drop(['Col1','Col2'], axis='columns', inplace=True)"
   ]
  },
  {
   "cell_type": "code",
   "execution_count": null,
   "metadata": {},
   "outputs": [],
   "source": [
    "# Garder des colonnes que d'un certain type\n",
    "df.select_dtypes(include=[np.number]).dtypes"
   ]
  },
  {
   "cell_type": "markdown",
   "metadata": {},
   "source": [
    "# Modifier l'index des lignes d'un dataframe"
   ]
  },
  {
   "cell_type": "code",
   "execution_count": null,
   "metadata": {},
   "outputs": [],
   "source": [
    "# Changer l’index d’une série\n",
    "data = data.set_index('Col1')"
   ]
  },
  {
   "cell_type": "code",
   "execution_count": null,
   "metadata": {},
   "outputs": [],
   "source": [
    "# Inverser les lignes d’un dataframe\n",
    "df.loc[::-1]"
   ]
  },
  {
   "cell_type": "code",
   "execution_count": null,
   "metadata": {},
   "outputs": [],
   "source": [
    "# Modifier les index Lignes d’un dataframe\n",
    "df.reindex(index=[])\n",
    "#Nan si nouveaux index inconnus"
   ]
  },
  {
   "cell_type": "code",
   "execution_count": null,
   "metadata": {},
   "outputs": [],
   "source": [
    "# Modifier les index Lignes d’un dataframe et mettre 0 si index inconnus\n",
    "df.reindex(index=[],fill_value=0)"
   ]
  },
  {
   "cell_type": "code",
   "execution_count": null,
   "metadata": {},
   "outputs": [],
   "source": [
    "# Modifier les index Lignes d’un dataframe et mettre les valeurs du dernier index si index inconnus\n",
    "df.reindex(index=[],method='ffill')"
   ]
  },
  {
   "cell_type": "markdown",
   "metadata": {},
   "source": [
    "# Transformer un dataframe"
   ]
  },
  {
   "cell_type": "code",
   "execution_count": null,
   "metadata": {},
   "outputs": [],
   "source": [
    "# Transposer un dataframe\n",
    "df.T"
   ]
  },
  {
   "cell_type": "code",
   "execution_count": null,
   "metadata": {},
   "outputs": [],
   "source": [
    "Transformer un dataframe en Array numpy\n",
    "df.to_numpy()"
   ]
  },
  {
   "cell_type": "markdown",
   "metadata": {},
   "source": [
    "# Diminuer la taille d'un dataframe"
   ]
  },
  {
   "cell_type": "code",
   "execution_count": null,
   "metadata": {},
   "outputs": [],
   "source": [
    "# Visualiser la taille d’un dataframe\n",
    "df.info(memory_usage='deep')"
   ]
  },
  {
   "cell_type": "code",
   "execution_count": null,
   "metadata": {},
   "outputs": [],
   "source": [
    "# Visualiser la taille d’une série du dataframe\n",
    "df.col1.nbytes                  # taille en mémoire\n",
    "df.col1.astype('Int16').nbytes  # taille en mémoire aprés transformation\n",
    "df.memory_usage(deep=True)      # inclue les index et les objets"
   ]
  },
  {
   "cell_type": "code",
   "execution_count": null,
   "metadata": {},
   "outputs": [],
   "source": [
    "# Modifier certaines Séries chaînes de caractères en Catégories\n",
    "df['continent'] = df.continent.astype('category')\n",
    "df.continent.head()           # Visualisation des chaînes de caractères\n",
    "df.continent.cat.codes.head() # Visualisation des chiffres\n",
    "df.continent.cat.categories   # Voir le codage des catégories"
   ]
  },
  {
   "cell_type": "code",
   "execution_count": null,
   "metadata": {},
   "outputs": [],
   "source": [
    "# Modifier certaines Séries chaînes de caractères en Catégories ordonnées\n",
    "priority_dtype = pd.api.types.CategoricalDtype(categories=['LOW', 'MEDIUM', 'HIGH'], ordered=True)\n",
    "df['priority'] = df['priority'].astype(priority_dtype)\n",
    "# ou alors\n",
    "from pandas.api.types import CategoricalDtype\n",
    "quality_cat = CategoricalDtype(['good', 'very good', 'excellent'], ordered=True)\n",
    "df['quality'] = df.quality.astype(quality_cat)\n",
    "# ou alors\n",
    "values = pd.Series(sorted(set(city_mpg ))) # Liste unique ordonnée\n",
    "city_type = pd.CategoricalDtype(categories=values ,ordered=True)\n",
    "city_mpg.astype(city_type)"
   ]
  },
  {
   "cell_type": "code",
   "execution_count": null,
   "metadata": {},
   "outputs": [],
   "source": [
    "# Sélection aléatoire d’un échantillon du dataframe\n",
    "df.sample(n=3, random_state=42)"
   ]
  },
  {
   "cell_type": "code",
   "execution_count": null,
   "metadata": {},
   "outputs": [],
   "source": [
    "# Séparer le df en 2 groupes aléatoires\n",
    "df1 = df.sample(frac=0.75, random_state=99)\n",
    "df2 = df.loc[~df.index.isin(df1.index), :]"
   ]
  },
  {
   "cell_type": "markdown",
   "metadata": {},
   "source": [
    "# Changer l'apparence d'un dataframe"
   ]
  },
  {
   "cell_type": "code",
   "execution_count": null,
   "metadata": {},
   "outputs": [],
   "source": [
    "format_dict = {'Date':'{:%m/%d/%y}', 'Close':'${:.2f}', 'Volume':'{:,}'}\n",
    "df.style.format(format_dict)"
   ]
  },
  {
   "cell_type": "code",
   "execution_count": null,
   "metadata": {},
   "outputs": [],
   "source": [
    "(stocks.style.format(format_dict)\n",
    " .hide_index()\n",
    " .highlight_min('Close', color='red')\n",
    " .highlight_max('Close', color='lightgreen')\n",
    ")"
   ]
  },
  {
   "cell_type": "code",
   "execution_count": null,
   "metadata": {},
   "outputs": [],
   "source": [
    "(stocks.style.format(format_dict)\n",
    " .hide_index()\n",
    " .background_gradient(subset='Volume', cmap='Blues')\n",
    ")"
   ]
  },
  {
   "cell_type": "code",
   "execution_count": null,
   "metadata": {},
   "outputs": [],
   "source": [
    "(stocks.style.format(format_dict)\n",
    " .hide_index()\n",
    " .bar('Volume', color='lightblue', align='zero')\n",
    " .set_caption('Stock Prices from October 2016')\n",
    ")"
   ]
  },
  {
   "cell_type": "markdown",
   "metadata": {},
   "source": [
    "# Trier un dataframe"
   ]
  },
  {
   "cell_type": "code",
   "execution_count": null,
   "metadata": {},
   "outputs": [],
   "source": [
    "# Trier un dataframe par ses index lignes par ordre croissant\n",
    "df.sort_index(axis=0, ascending=True)\n",
    "# ou alors\n",
    "df.sort_index(axis='index', ascending=True)"
   ]
  },
  {
   "cell_type": "code",
   "execution_count": null,
   "metadata": {},
   "outputs": [],
   "source": [
    "# Trier un dataframe par ses index lignes par ordre décroissant\n",
    "df.sort_index(axis=0, ascending=False)"
   ]
  },
  {
   "cell_type": "code",
   "execution_count": null,
   "metadata": {},
   "outputs": [],
   "source": [
    "# Trier un dataframe par ses colonnes par ordre décroissant (noms des colonnes)\n",
    "df.sort_index(axis=1, ascending=False)"
   ]
  },
  {
   "cell_type": "code",
   "execution_count": null,
   "metadata": {},
   "outputs": [],
   "source": [
    "# Trier un dataframe par ses les valeurs d’une de ses colonnes par ordre croissant\n",
    "df.sort_values(by=\"C\", ascending=True)"
   ]
  },
  {
   "cell_type": "code",
   "execution_count": null,
   "metadata": {},
   "outputs": [],
   "source": [
    "# Trier un dataframe par les valeurs de plusieurs colonnes\n",
    "df = df.sort([\"col1\",\"col2\",\"col3\"],ascending=[1,1,0])"
   ]
  },
  {
   "cell_type": "markdown",
   "metadata": {},
   "source": [
    "# Sélectionner les données d'un dataframe - les colonnes par leur nom"
   ]
  },
  {
   "cell_type": "code",
   "execution_count": null,
   "metadata": {},
   "outputs": [],
   "source": [
    "# Sélectionner une colonne d’un dataframe par son nom et l’affecter à une série\n",
    "s = df[\"Col1\"]\n",
    "# ou alors\n",
    "s = df.Col1 # il faut que le nom ne comporte pas d'espace"
   ]
  },
  {
   "cell_type": "code",
   "execution_count": null,
   "metadata": {},
   "outputs": [],
   "source": [
    "# Sélectionner une colonne d’un dataframe par son nom et l’affecter à un Dataframe\n",
    "s = df[[\"Col1\"]]"
   ]
  },
  {
   "cell_type": "code",
   "execution_count": null,
   "metadata": {},
   "outputs": [],
   "source": [
    "# Sélectionner plusieurs colonnes d’un dataframe par leurs noms et les affecter à un dataframe\n",
    "df[[\"Col1\",\"Col2\"]]"
   ]
  },
  {
   "cell_type": "code",
   "execution_count": null,
   "metadata": {},
   "outputs": [],
   "source": [
    "# Sélectionner plusieurs colonnes d’un dataframe par leurs noms et les affecter à un dataframe\n",
    "df.loc[:, [\"Col1\",\"Col2\"]]"
   ]
  },
  {
   "cell_type": "code",
   "execution_count": null,
   "metadata": {},
   "outputs": [],
   "source": [
    "# Sélectionner plusieurs colonnes d’un dataframe appartenant à un range et les affecter à un dataframe\n",
    "df.loc[:, \"Col1\":\"Col2\"]"
   ]
  },
  {
   "cell_type": "code",
   "execution_count": null,
   "metadata": {},
   "outputs": [],
   "source": [
    "# Sélectionner les colonnes du dataframe qui sont dans une liste\n",
    "df.filter(items=['col1', 'col2'])"
   ]
  },
  {
   "cell_type": "code",
   "execution_count": null,
   "metadata": {},
   "outputs": [],
   "source": [
    "# Sélectionner les colonnes du dataframe dont le nom respecte une regex\n",
    "df.filter(regex='e$', axis=1)"
   ]
  },
  {
   "cell_type": "code",
   "execution_count": null,
   "metadata": {},
   "outputs": [],
   "source": [
    "# Sélectionner les colonnes du dataframe dont le nom contient une chaine de caractère\n",
    "df.filter(like='2018', axis=1)"
   ]
  },
  {
   "cell_type": "markdown",
   "metadata": {},
   "source": [
    "# Sélectionner les données d'un dataframe - les colonnes par leur position"
   ]
  },
  {
   "cell_type": "code",
   "execution_count": null,
   "metadata": {},
   "outputs": [],
   "source": [
    "# Sélectionner plusieurs colonnes d’un dataframe par leurs positions\n",
    "df.iloc[:,1:3]"
   ]
  },
  {
   "cell_type": "code",
   "execution_count": null,
   "metadata": {},
   "outputs": [],
   "source": [
    "# Sélectionner la dernière colonne d’un dataframe\n",
    "df.iloc[:,-1]"
   ]
  },
  {
   "cell_type": "markdown",
   "metadata": {},
   "source": [
    "# Sélectionner les données d'un dataframe - les colonnes par leur type"
   ]
  },
  {
   "cell_type": "code",
   "execution_count": null,
   "metadata": {},
   "outputs": [],
   "source": [
    "# Sélectionner les colonnes d’un certain type\n",
    "df.select_dtypes(include=['int']).head()\n",
    "df.select_dtypes(include=['number', 'object', 'category', 'datetime']).head()"
   ]
  },
  {
   "cell_type": "code",
   "execution_count": null,
   "metadata": {},
   "outputs": [],
   "source": [
    "# Sélectionner des colonnes en excluant certains types\n",
    "df.select_dtypes(exclude='number').head()"
   ]
  },
  {
   "cell_type": "markdown",
   "metadata": {},
   "source": [
    "# Sélectionner les données d'un dataframe - les lignes par leur index"
   ]
  },
  {
   "cell_type": "code",
   "execution_count": null,
   "metadata": {},
   "outputs": [],
   "source": [
    "# Sélectionner des lignes d’un Dataframe par leur index\n",
    "df[0:3]\n",
    "df[\"20210101\":\"20210131\"]"
   ]
  },
  {
   "cell_type": "code",
   "execution_count": null,
   "metadata": {},
   "outputs": [],
   "source": [
    "# Sélectionner des lignes d’un Dataframe indexé par une date\n",
    "df['2019']['close']\n",
    "df.loc['2016':'2019','close']"
   ]
  },
  {
   "cell_type": "markdown",
   "metadata": {},
   "source": [
    "# Sélectionner les données d'un dataframe - les lignes par de nom de l'index"
   ]
  },
  {
   "cell_type": "code",
   "execution_count": null,
   "metadata": {},
   "outputs": [],
   "source": [
    "# Sélectionner des lignes d’un Dataframe par le nom de leur index\n",
    "df.loc[\"idx1\"]\n",
    "df.loc[\"idx1\",\"idx2\"] ou df.loc[[\"idx1\",\"idx2\"]]"
   ]
  },
  {
   "cell_type": "code",
   "execution_count": null,
   "metadata": {},
   "outputs": [],
   "source": [
    "# Sélectionner une ligne d’un Dataframe par son nom et l’affecter à un dataframe\n",
    "df.loc[[\"idx1\"]]"
   ]
  },
  {
   "cell_type": "markdown",
   "metadata": {},
   "source": [
    "# Sélectionner les données d'un dataframe - les lignes par leur position"
   ]
  },
  {
   "cell_type": "code",
   "execution_count": null,
   "metadata": {},
   "outputs": [],
   "source": [
    "# Sélectionner des lignes d’un Dataframe par leur position\n",
    "df.iloc[1]\n",
    "df.iloc[1:3,:]\n",
    "df.iloc[[1,3,4],:]"
   ]
  },
  {
   "cell_type": "markdown",
   "metadata": {},
   "source": [
    "# Sélectionner les données d'un dataframe suivant un critère logique"
   ]
  },
  {
   "cell_type": "code",
   "execution_count": null,
   "metadata": {},
   "outputs": [],
   "source": [
    "# Filtrage booléen\n",
    "booleen = df[\"Col1\"]>0\n",
    "df[booleen]\n",
    "df[booleen].describe()"
   ]
  },
  {
   "cell_type": "code",
   "execution_count": null,
   "metadata": {},
   "outputs": [],
   "source": [
    "# Sélectionner les lignes qui vérifient une même condition sur une de leur colonne\n",
    "df[df[\"Col1\"]>0]"
   ]
  },
  {
   "cell_type": "code",
   "execution_count": null,
   "metadata": {},
   "outputs": [],
   "source": [
    "# Sélectionner les lignes qui vérifient une même condition sur une de leur colonne\n",
    "df[df[\"Col1\"].isin(\"un\",\"deux\")]"
   ]
  },
  {
   "cell_type": "code",
   "execution_count": null,
   "metadata": {},
   "outputs": [],
   "source": [
    "# Sélectionner les lignes qui vérifient une même condition sur une de leur colonne de type caractère\n",
    "df[df[\"Col1\"].str.startswith('J')]\n",
    "df[df[\"Col1\"].str.contains('y')]\n",
    "df[~df[\"Col1\"].str.contains('y')]"
   ]
  },
  {
   "cell_type": "code",
   "execution_count": null,
   "metadata": {},
   "outputs": [],
   "source": [
    "# Sélectionner les lignes qui vérifient une même condition sur une de leur colonne\n",
    "df.where[df[\"Col1\"]>0]] # Mêmes dimensions que df, contrairement à df[df[\"Col1\"]>0]"
   ]
  },
  {
   "cell_type": "code",
   "execution_count": null,
   "metadata": {},
   "outputs": [],
   "source": [
    "# Sélectionner les lignes en écrivant une query\n",
    "df.query('col1>0 and col2 < 0')"
   ]
  },
  {
   "cell_type": "code",
   "execution_count": null,
   "metadata": {},
   "outputs": [],
   "source": [
    "# Sélectionner les lignes qui contiennent les 5 valeurs extremes d’une colonne\n",
    "df.nlargest(5,'Col1')\n",
    "df.nsmallest(5,'Col1')\n",
    "# Sélectionner les lignes qui contiennent les 5 valeurs minimales d’une colonne et les 5 valeurs maximales d’une autre colonne\n",
    "df.nlargest(5,'Col1').nsmallest(5,'Col2')"
   ]
  },
  {
   "cell_type": "code",
   "execution_count": null,
   "metadata": {},
   "outputs": [],
   "source": [
    "# Sélectionner toutes les lignes d’un dataframe qui font partie de catégories les plus/moins représentées\n",
    "counts = df.col1.value_counts()\n",
    "df[df.col1.isin(counts.nlargest(3).index)].head()"
   ]
  },
  {
   "cell_type": "code",
   "execution_count": null,
   "metadata": {},
   "outputs": [],
   "source": [
    "# Sélectionner les lignes qui vérifient plusieurs mêmes conditions sur leurs colonnes (And)\n",
    "df[(df[\"col1\"]>0) & (df[\"col2\"] < 0)]"
   ]
  },
  {
   "cell_type": "code",
   "execution_count": null,
   "metadata": {},
   "outputs": [],
   "source": [
    "# Sélectionner les lignes qui vérifient plusieurs mêmes conditions sur leurs colonnes (Or)\n",
    "df[(df[\"col1\"]>0) | (df[\"col2\"] < 0)]"
   ]
  },
  {
   "cell_type": "code",
   "execution_count": null,
   "metadata": {},
   "outputs": [],
   "source": [
    "# Sélectionner les lignes qui vérifient plusieurs mêmes conditions sur leurs colonnes (And)\n",
    "df[ np.logical_and(df[\"col1\"]>0, df[\"col2\"] < 0] # moins fréquent"
   ]
  },
  {
   "cell_type": "markdown",
   "metadata": {},
   "source": [
    "# Ajouter une nouvelle colonne au dataframe"
   ]
  },
  {
   "cell_type": "code",
   "execution_count": null,
   "metadata": {},
   "outputs": [],
   "source": [
    "# Ajouter une nouvelle colonne et l’initialiser à zéro\n",
    "df.loc[:,\"nouvelle\"] = 0\n",
    "# ou alors\n",
    "df[\"nouvelle\"] = 0"
   ]
  },
  {
   "cell_type": "code",
   "execution_count": null,
   "metadata": {},
   "outputs": [],
   "source": [
    "# Ajouter une nouvelle colonne et l’initialiser à partir des données d’autres colonnes\n",
    "df.loc[:,\"nouvelle\"] = df.loc[:,\"col1\"]  + df.loc[:,\"col2\"] \n",
    "df[\"nouvelle\"] = df[\"col1\"]  + df[\"col2\"]"
   ]
  },
  {
   "cell_type": "code",
   "execution_count": null,
   "metadata": {},
   "outputs": [],
   "source": [
    "# Ajouter une nouvelle colonne et l’initialiser à partir des données d’autres colonnes\n",
    "# Calculs à partir des méthodes liées aux séries\n",
    "df[\"nouvelle\"] = df[\"col1\"].add(df[\"col2\"], fill_value=0) \n",
    "df[\"nouvelle\"] = df[\"col1\"].add(df[\"col2\"], fill_value=0).div(2) # chaining"
   ]
  },
  {
   "cell_type": "code",
   "execution_count": null,
   "metadata": {},
   "outputs": [],
   "source": [
    "# Ajouter une nouvelle colonne et l’initialiser à partir des données d’autres colonnes avec la méthode where de numpy\n",
    "df[\"nouvelle\"] = np.where(df[\"col1\"]<10, \"Pas Mal\",\"Bien\")"
   ]
  },
  {
   "cell_type": "code",
   "execution_count": null,
   "metadata": {},
   "outputs": [],
   "source": [
    "# Remplacer les valeurs d’une série qui ne sont pas dans le top5 des valeurs les plus représentées par \"Autres\"\n",
    "top5 = col1.value_counts().index[:5]\n",
    "col1.where(col1.isin(top5), other='Autres')"
   ]
  },
  {
   "cell_type": "code",
   "execution_count": null,
   "metadata": {},
   "outputs": [],
   "source": [
    "# Et si on veut inverser la logique de la cellule du dessus\n",
    "top5 = col1.value_counts().index[:5]\n",
    "col1.where(~col1.isin(top5), other='Autres') #~ inverse la logique\n",
    "# ou alors\n",
    "col1.mask(col1.isin(top5), other='Autres')   # Même effet que le ~"
   ]
  },
  {
   "cell_type": "code",
   "execution_count": null,
   "metadata": {},
   "outputs": [],
   "source": [
    "# Garder les valeurs d’une série qui sont dans le top5 des valeurs les plus représentées, \n",
    "# mettre \"TOP10\" pour celles qui sont dans le Top10, et \"Autres\" sinon\n",
    "top5 = col1.value_counts().index[:5]\n",
    "top10 = col1.value_counts().index[:10]\n",
    "col1.where(col1.isin(top5), other='TOP10').where(col1.isin(top10), other='Autres')\n",
    "# ou alors\n",
    "import numpy as np\n",
    "np.select([col1.isin(top5), col1.isin(top10)],[col1, 'Top10'], 'Other')"
   ]
  },
  {
   "cell_type": "markdown",
   "metadata": {},
   "source": [
    "# Modifier des colonnes de type String"
   ]
  },
  {
   "cell_type": "code",
   "execution_count": null,
   "metadata": {},
   "outputs": [],
   "source": [
    "# Modifier des chaînes de caractères en utilisant des String Methods\n",
    "df[\"col\"] = df[\"col\"].str.upper()                               # tout en majuscule\n",
    "df[\"col\"] = df[\"col\"].str.replace('[', '').str.replace(']', '') # on supprime les chaines \"[]\"\n",
    "df[\"col\"] = df[\"col\"].str.replace('$', '').astype(float)        # on supprime le signe $ et on convertit en nombre"
   ]
  },
  {
   "cell_type": "code",
   "execution_count": null,
   "metadata": {},
   "outputs": [],
   "source": [
    "# Modifier des Strings en nombres en gérant les erreurs - sur une série\n",
    "pd.to_numeric(df.col1, errors='coerce')                # Nan si erreur\n",
    "pd.to_numeric(df.col_three, errors='coerce').fillna(0) # 0 si erreur"
   ]
  },
  {
   "cell_type": "code",
   "execution_count": null,
   "metadata": {},
   "outputs": [],
   "source": [
    "# Modifier des Strings en nombres en gérant les erreurs - sur le dataframe complet\n",
    "df = df.apply(pd.to_numeric, errors='coerce').fillna(0)"
   ]
  },
  {
   "cell_type": "code",
   "execution_count": null,
   "metadata": {},
   "outputs": [],
   "source": [
    "# Modification d’un string dans une Série - Remplacement simple\n",
    "df.col1.replace(to_replace='old',value='new')\n",
    "# ou alors\n",
    "df.col1.replace(to_replace={'old':'new'})"
   ]
  },
  {
   "cell_type": "code",
   "execution_count": null,
   "metadata": {},
   "outputs": [],
   "source": [
    "# Modification d’un string dans une Série - avec les regex\n",
    "df.col1.replace(to_replace='z.*',value='zanne',regex=True)\n",
    "make.replace(r'( Fer)ra(r.*)',value=r'\\2-other -\\1', regex=True)"
   ]
  },
  {
   "cell_type": "code",
   "execution_count": null,
   "metadata": {},
   "outputs": [],
   "source": [
    "# Modifier plusieurs colonnes String > Nombre\n",
    "cols = df.columns                                         # choix de la liste des colonnes\n",
    "df[cols] = df[cols].apply(pd.to_numeric, errors='coerce')"
   ]
  },
  {
   "cell_type": "markdown",
   "metadata": {},
   "source": [
    "# Changer le type d’une colonne de dataframe"
   ]
  },
  {
   "cell_type": "code",
   "execution_count": null,
   "metadata": {},
   "outputs": [],
   "source": [
    "# Transformer une colonne en nombre\n",
    "df[\"col\"] = df[\"col\"].astype(float)"
   ]
  },
  {
   "cell_type": "code",
   "execution_count": null,
   "metadata": {},
   "outputs": [],
   "source": [
    "# Modifier Plusieurs colonnes\n",
    "df = df.astype({'col1':'float', 'col2':'float'})"
   ]
  },
  {
   "cell_type": "code",
   "execution_count": null,
   "metadata": {},
   "outputs": [],
   "source": [
    "# Modifier les valeurs à la création du dataframe\n",
    "pd.read_csv('df.csv', dtype={'column_x':float})"
   ]
  },
  {
   "cell_type": "code",
   "execution_count": null,
   "metadata": {},
   "outputs": [],
   "source": [
    "# Vérifier les capacités des différents types (int64, uint8, float16, float64) - Min et Max possibles\n",
    "np.iinfo('int64')\n",
    "# iinfo(min = -9223372036854775808 , max =9223372036854775807 , dtype=int64)\n",
    "np.iinfo('uint8')\n",
    "# iinfo(min=0, max =255 , dtype=uint8)\n",
    "np.finfo('float16')\n",
    "# finfo(resolution =0.001 , min = -6.55040e+04, max =6.55040e+04, dtype=float16)\n",
    "np.finfo('float64')\n",
    "# finfo(resolution =1e-15, min = -1.7976931348623157e+308 ,max =1.7976931348623157 e+308 , dtype=float64)"
   ]
  },
  {
   "cell_type": "markdown",
   "metadata": {},
   "source": [
    "# Changer le type d’une colonne de dataframe en catégorie"
   ]
  },
  {
   "cell_type": "code",
   "execution_count": null,
   "metadata": {},
   "outputs": [],
   "source": [
    "# Modifier une colonne du Dataframe contenant un nombre fini de modalités par des nombres\n",
    "data['sex'].map({'male':0, 'female':1}) # map et dictionnaire\n",
    "# ou alors\n",
    "data['sex'].replace( ['male','female'] , [0,1])\n",
    "\n",
    "data['sex'].astype('category').cat.codes"
   ]
  },
  {
   "cell_type": "markdown",
   "metadata": {},
   "source": [
    "# Modifier une valeur du dataframe"
   ]
  },
  {
   "cell_type": "code",
   "execution_count": null,
   "metadata": {},
   "outputs": [],
   "source": [
    "# Modifier la valeur en se basant sur les noms des index lignes et colonnes\n",
    "df.at[dates[0],\"A\"]=0"
   ]
  },
  {
   "cell_type": "code",
   "execution_count": null,
   "metadata": {},
   "outputs": [],
   "source": [
    "# Modifier la valeur en se basant sur les positions de la ligne et colonne\n",
    "df.iat[0,1]=0\n",
    "df.iat[0,1]=np.nan"
   ]
  },
  {
   "cell_type": "code",
   "execution_count": null,
   "metadata": {},
   "outputs": [],
   "source": [
    "# Modifier dans le dataframe tout un ensemble de valeurs\n",
    "df.loc[df.col1=='NOT RATED', 'col1'] = np.nan"
   ]
  },
  {
   "cell_type": "markdown",
   "metadata": {},
   "source": [
    "# Ajouter une catégorie pour des valeurs numériques continues"
   ]
  },
  {
   "cell_type": "code",
   "execution_count": null,
   "metadata": {},
   "outputs": [],
   "source": [
    "# bornes définies par l'utilisateur et nommage de chaque groupe\n",
    "pd.cut(titanic.Age, bins=[0, 18, 25, 99], labels=['child', 'young adult', 'adult'])\n",
    "\n",
    "pd.cut(df.col1, 10)              # 10 groupes avec bornes réparties équitablement\n",
    "pd.cut(df.col1, [0,10,20,30,40]) # Avec définition des bornes\n",
    "pd.qcut(df.col1, 10)             # 10 groupes répartis équitablement en nombre (quartiles)"
   ]
  },
  {
   "cell_type": "markdown",
   "metadata": {},
   "source": [
    "# Ajouter un classement pour des valeurs numériques continues"
   ]
  },
  {
   "cell_type": "code",
   "execution_count": null,
   "metadata": {},
   "outputs": [],
   "source": [
    "col1.rank()               # rang des valeurs identiques > moyenne de leur rang\n",
    "col1.rank(method='min')   # les valeurs identiques auront le même rang\n",
    "col1.rank(method='dense') # pas de trous dans les classements"
   ]
  },
  {
   "cell_type": "markdown",
   "metadata": {},
   "source": [
    "# Dataframe avec un index de type Date - Timeseries"
   ]
  },
  {
   "cell_type": "code",
   "execution_count": null,
   "metadata": {},
   "outputs": [],
   "source": [
    "# Convertir la Série en format datetime\n",
    "df['Time'] = pd.to_datetime(df.Time)\n",
    "df['Time'] = pd.to_datetime(df.Time, format=\"%d/%m/%y\")\n",
    "df['Time'] = pd.to_datetime(df.Time, infer_datetime_format=True) # Panda devine le bon format de date à appliquer"
   ]
  },
  {
   "cell_type": "code",
   "execution_count": null,
   "metadata": {},
   "outputs": [],
   "source": [
    "# A partir d’une données de type date, extraire les informations spécifiques liées aux dates\n",
    "df.Time.dt.hour\n",
    "df.Time.dt.weekday_name\n",
    "df.Time.dayofyear.hour\n",
    "(day.Time.max() - day.Time.min()).days"
   ]
  },
  {
   "cell_type": "code",
   "execution_count": null,
   "metadata": {},
   "outputs": [],
   "source": [
    "# Filtrer les données de type date\n",
    "df[df.time_column > pd.datetime_column(2014, 1, 1)]"
   ]
  },
  {
   "cell_type": "markdown",
   "metadata": {},
   "source": [
    "# Gérer les valeurs manquantes du dataframe > les compter"
   ]
  },
  {
   "cell_type": "code",
   "execution_count": null,
   "metadata": {},
   "outputs": [],
   "source": [
    "# Visualiser les colonnes d’un dataframe et du nombre de valeurs manquantes\n",
    "df.info()"
   ]
  },
  {
   "cell_type": "code",
   "execution_count": null,
   "metadata": {},
   "outputs": [],
   "source": [
    "# identifier les colonnes avec des valeurs manquantes et en faire une liste\n",
    "cols_miss_val = [col for col in df.columns if df[col].isnull().any()] "
   ]
  },
  {
   "cell_type": "code",
   "execution_count": null,
   "metadata": {},
   "outputs": [],
   "source": [
    "# Visualiser les valeurs NA du dataframe\n",
    "pd.isna(df)"
   ]
  },
  {
   "cell_type": "code",
   "execution_count": null,
   "metadata": {},
   "outputs": [],
   "source": [
    "# Visualiser le nombre de NA du dataframe par colonne\n",
    "pd.isna(df).sum()\n",
    "# ou alors\n",
    "df.isnull().sum()"
   ]
  },
  {
   "cell_type": "code",
   "execution_count": null,
   "metadata": {},
   "outputs": [],
   "source": [
    "# Visualiser le nombre de valeurs non nulles pour une colonne du dataframe\n",
    "df[\"col1\"].notnull().sum()\n",
    "df.notnull().sum()"
   ]
  },
  {
   "cell_type": "code",
   "execution_count": null,
   "metadata": {},
   "outputs": [],
   "source": [
    "# Visualiser le pourcentage de valeurs non nulles pour les colonnes du dataframe\n",
    "df.notnull().mean()"
   ]
  },
  {
   "cell_type": "code",
   "execution_count": null,
   "metadata": {},
   "outputs": [],
   "source": [
    "# Visualiser le nombre de NA du dataframe au total\n",
    "pd.isna(df).sum().sum()\n",
    "# ou alors\n",
    "df.isnull().sum().sum()"
   ]
  },
  {
   "cell_type": "code",
   "execution_count": null,
   "metadata": {},
   "outputs": [],
   "source": [
    "# Visualiser le nombre de NA du dataframe par type de colonne\n",
    "df.isnull().dtypes.value_counts()\n",
    "df.isnull().dtypes.value_counts(normalize=True) #pourcentage"
   ]
  },
  {
   "cell_type": "code",
   "execution_count": null,
   "metadata": {},
   "outputs": [],
   "source": [
    "# Visualiser le nombre de valeurs non NA du dataframe par colonne\n",
    "df.count()"
   ]
  },
  {
   "cell_type": "code",
   "execution_count": null,
   "metadata": {},
   "outputs": [],
   "source": [
    "# Visualiser le pourcentage de NA du dataframe par colonne\n",
    "pd.isna(df).mean()"
   ]
  },
  {
   "cell_type": "code",
   "execution_count": null,
   "metadata": {},
   "outputs": [],
   "source": [
    "# Les valeurs manquantes sont exclues par défaut du comptage\n",
    "df.column_x.value_counts()              # exclusion des valeurs manquantes\n",
    "df.column_x.value_counts(dropna=False)  # inclusion des valeurs manquantes"
   ]
  },
  {
   "cell_type": "code",
   "execution_count": null,
   "metadata": {},
   "outputs": [],
   "source": [
    "# Créer le dataframe sans tenir compte du filtre des valeurs manquantes\n",
    "df = pd.read_csv(\"df.csv\", header=0, names=new_cols, na_filter=False)"
   ]
  },
  {
   "cell_type": "markdown",
   "metadata": {},
   "source": [
    "# Gérer les valeurs manquantes du dataframe > les supprimer"
   ]
  },
  {
   "cell_type": "code",
   "execution_count": null,
   "metadata": {},
   "outputs": [],
   "source": [
    "# Avant de supprimer, vérifier combien de lignes seront supprimées\n",
    "df.dropna(how=\"any\").shape # Au moins une des valeurs la ligne est manquante\n",
    "df.dropna(how=\"all\").shape # Toutes les valeurs de la ligne sont manquantes"
   ]
  },
  {
   "cell_type": "code",
   "execution_count": null,
   "metadata": {},
   "outputs": [],
   "source": [
    "# Supprimer d’un dataframe toutes les lignes qui comportent une valeur NA\n",
    "df.dropna(how=\"any\") # au moins une\n",
    "df.dropna(how=\"all\") # Toutes"
   ]
  },
  {
   "cell_type": "code",
   "execution_count": null,
   "metadata": {},
   "outputs": [],
   "source": [
    "# Supprimer d’un dataframe toutes les lignes qui comportent une valeur NA sur certaines colonnes\n",
    "df.dropna(subset=['col1', 'col2'],how=\"any\") # au moins une\n",
    "df.dropna(subset=['col1', 'col2'],how=\"all\") # toutes"
   ]
  },
  {
   "cell_type": "code",
   "execution_count": null,
   "metadata": {},
   "outputs": [],
   "source": [
    "# Supprimer d’un dataframe toutes les lignes qui comportent une valeur NA\n",
    "df.dropna(axis=0)"
   ]
  },
  {
   "cell_type": "code",
   "execution_count": null,
   "metadata": {},
   "outputs": [],
   "source": [
    "# Supprimer les colonnes qui ont plus de 10% de valeurs manquantes\n",
    "df.dropna(thresh=len(df)*0.9, axis='columns')"
   ]
  },
  {
   "cell_type": "markdown",
   "metadata": {},
   "source": [
    "# Gérer les valeurs manquantes du dataframe > les remplacer"
   ]
  },
  {
   "cell_type": "code",
   "execution_count": null,
   "metadata": {},
   "outputs": [],
   "source": [
    "# Remplacer dans un dataframe les valeurs NA par une constante\n",
    "df.fillna(value=0)"
   ]
  },
  {
   "cell_type": "code",
   "execution_count": null,
   "metadata": {},
   "outputs": [],
   "source": [
    "# Remplacer dans un dataframe les valeurs NA par une constante\n",
    "df['col1'].fillna(value='defaut',inplace=True)"
   ]
  },
  {
   "cell_type": "code",
   "execution_count": null,
   "metadata": {},
   "outputs": [],
   "source": [
    "# Remplacer dans un dataframe les valeurs NA par des constantes différentes suivant les colonnes\n",
    "df = df.fillna({\n",
    " 'col1': 'missing',\n",
    " 'col2': '99.999',\n",
    " 'col3': '999',\n",
    " 'col4': 'missing',\n",
    " 'col5': 'missing',\n",
    " 'col6': '99'\n",
    "})"
   ]
  },
  {
   "cell_type": "code",
   "execution_count": null,
   "metadata": {},
   "outputs": [],
   "source": [
    "# Remplacer dans un dataframe les valeurs NA d’une colonne en se basant sur les valeurs qui précèdent\n",
    "df[\"col1\"].fillna(inplace=True, method='bfill') # Backward fill\n",
    "# ou alors\n",
    "df[\"col1\"].bfill(inplace=True)                  # equivalent"
   ]
  },
  {
   "cell_type": "code",
   "execution_count": null,
   "metadata": {},
   "outputs": [],
   "source": [
    "# Remplacer dans un dataframe les valeurs NA d’une colonne en se basant sur les valeurs qui suivent\n",
    "df[\"col1\"].fillna(inplace=True, method='ffill') # forward fill"
   ]
  },
  {
   "cell_type": "code",
   "execution_count": null,
   "metadata": {},
   "outputs": [],
   "source": [
    "# Remplacer dans un dataframe les valeurs NA d’une colonne en interpolant les valeurs\n",
    "df[\"col1\"].interpolate() #interpolation"
   ]
  },
  {
   "cell_type": "markdown",
   "metadata": {},
   "source": [
    "# Gestion des valeurs extrêmes - Les retirer"
   ]
  },
  {
   "cell_type": "code",
   "execution_count": null,
   "metadata": {},
   "outputs": [],
   "source": [
    "# Enlever dans un dataframe les valeurs extrêmes, à partir des quartiles\n",
    "# Les remplacer par les bornes du quartile\n",
    "df.col1.clip(lower=df.col1.quantile(.05), upper=df.col1.quantile(.95))"
   ]
  },
  {
   "cell_type": "markdown",
   "metadata": {},
   "source": [
    "# Gérer les doublons dans une série"
   ]
  },
  {
   "cell_type": "code",
   "execution_count": null,
   "metadata": {},
   "outputs": [],
   "source": [
    "# Trouver les doublons dans une série\n",
    "df.col1.duplicated().tail()"
   ]
  },
  {
   "cell_type": "code",
   "execution_count": null,
   "metadata": {},
   "outputs": [],
   "source": [
    "# Compter le nombre de doublons\n",
    "df.col1.duplicated().sum()"
   ]
  },
  {
   "cell_type": "code",
   "execution_count": null,
   "metadata": {},
   "outputs": [],
   "source": [
    "# Afficher tous les doublons pour une série\n",
    "df.loc[col1.duplicated(keep=False), :]"
   ]
  },
  {
   "cell_type": "code",
   "execution_count": null,
   "metadata": {},
   "outputs": [],
   "source": [
    "# Afficher tous les doublons pour une série (en ignorant première occurrence)\n",
    "df.loc[col1.duplicated(keep='first'), :]"
   ]
  },
  {
   "cell_type": "code",
   "execution_count": null,
   "metadata": {},
   "outputs": [],
   "source": [
    "# Afficher tous les doublons pour une série (en ignorant la dernière occurrence)\n",
    "df.loc[col1.duplicated(keep='last'), :]"
   ]
  },
  {
   "cell_type": "code",
   "execution_count": null,
   "metadata": {},
   "outputs": [],
   "source": [
    "# Supprimer les doublons pour une série\n",
    "df.col1.drop_duplicated(keep='first') # Pour chaque groupe dupliqué, on ne garde que la première occurence trouvée\n",
    "# ou alors\n",
    "df.col1.drop_duplicated(keep='last') # On ne garde que la dernière occurence trouvée\n",
    "# ou alors\n",
    "df.col1.drop_duplicated(keep='false') # On supprime tous les doublons"
   ]
  },
  {
   "cell_type": "markdown",
   "metadata": {},
   "source": [
    "# Gérer les doublons dans le dataframe"
   ]
  },
  {
   "cell_type": "code",
   "execution_count": null,
   "metadata": {},
   "outputs": [],
   "source": [
    "# Trouver les doublons dans la df\n",
    "df.duplicated().tail()"
   ]
  },
  {
   "cell_type": "code",
   "execution_count": null,
   "metadata": {},
   "outputs": [],
   "source": [
    "# Supprimer les doublons pour un dataframe\n",
    "df.drop_duplicated(keep='first')\n",
    "# ou alors\n",
    "df.drop_duplicated(keep='last')\n",
    "# ou alors\n",
    "df.drop_duplicated(keep='false')"
   ]
  },
  {
   "cell_type": "markdown",
   "metadata": {},
   "source": [
    "# Calcul statistique sur les données du dataframe"
   ]
  },
  {
   "cell_type": "code",
   "execution_count": null,
   "metadata": {},
   "outputs": [],
   "source": [
    "# Visualiser la moyenne des colonnes (format numérique) du dataframe\n",
    "df.mean()"
   ]
  },
  {
   "cell_type": "code",
   "execution_count": null,
   "metadata": {},
   "outputs": [],
   "source": [
    "# Visualiser la somme des colonnes  (format numérique) du dataframe\n",
    "df.sum()"
   ]
  },
  {
   "cell_type": "code",
   "execution_count": null,
   "metadata": {},
   "outputs": [],
   "source": [
    "# Visualiser le nombre de valeurs non nulles par colonne du dataframe\n",
    "df.count()"
   ]
  },
  {
   "cell_type": "code",
   "execution_count": null,
   "metadata": {},
   "outputs": [],
   "source": [
    "# Visualiser les statistiques sur une colonne\n",
    "df[\"Col1\"].mean()\n",
    "df[\"Col1\"].count()\n",
    "df[\"Col1\"].sum()"
   ]
  },
  {
   "cell_type": "code",
   "execution_count": null,
   "metadata": {},
   "outputs": [],
   "source": [
    "# Visualiser les différentes valeurs d’une colonne et leur nombre d’apparition\n",
    "df[\"Col1\"].value_counts()\n",
    "df[\"Col1\"].value_counts(1) # sous forme de pourcentage\n",
    "df[\"Col1\"].value_counts(normalize=True) # sous forme de pourcentage"
   ]
  },
  {
   "cell_type": "code",
   "execution_count": null,
   "metadata": {},
   "outputs": [],
   "source": [
    "# Visualiser les différentes valeurs d’une colonne\n",
    "df[\"Col1\"].unique()"
   ]
  },
  {
   "cell_type": "code",
   "execution_count": null,
   "metadata": {},
   "outputs": [],
   "source": [
    "# Visualiser le nombre des différentes valeurs d’une colonne\n",
    "df[\"Col1\"].nunique()"
   ]
  },
  {
   "cell_type": "code",
   "execution_count": null,
   "metadata": {},
   "outputs": [],
   "source": [
    "# Calculer la corrélation entre 2 colonnes du dataframe\n",
    "df[ ['c1','c2'] ].corr()"
   ]
  },
  {
   "cell_type": "code",
   "execution_count": null,
   "metadata": {},
   "outputs": [],
   "source": [
    "# Visualiser la somme par ligne de toutes les colonnes numériques du dataframe\n",
    "df.sum(1)"
   ]
  },
  {
   "cell_type": "markdown",
   "metadata": {},
   "source": [
    "# Calculer avec la fonction apply"
   ]
  },
  {
   "cell_type": "code",
   "execution_count": null,
   "metadata": {},
   "outputs": [],
   "source": [
    "Note : apply peut ne pas être une solution performante ..."
   ]
  },
  {
   "cell_type": "code",
   "execution_count": null,
   "metadata": {},
   "outputs": [],
   "source": [
    "# Effectuer une somme cumulative sur toutes les colonnes d’un dataframe\n",
    "df.apply(np.cumsum)"
   ]
  },
  {
   "cell_type": "code",
   "execution_count": null,
   "metadata": {},
   "outputs": [],
   "source": [
    "# Trouver pour chaque colonne d’un dataframe, la différence entre la valeur maximale et minimale (par colonne)\n",
    "df.apply(lambda x: x.max() - x.min())"
   ]
  },
  {
   "cell_type": "code",
   "execution_count": null,
   "metadata": {},
   "outputs": [],
   "source": [
    "# Trouver pour chaque colonne d’un dataframe, l’index qui contient la valeur maximale\n",
    "df.apply(lambda x:x.idmax())"
   ]
  },
  {
   "cell_type": "code",
   "execution_count": null,
   "metadata": {},
   "outputs": [],
   "source": [
    "# Calculer la somme par colonne d’un dataframe\n",
    "result = df.apply(np.sum, axis=0)"
   ]
  },
  {
   "cell_type": "code",
   "execution_count": null,
   "metadata": {},
   "outputs": [],
   "source": [
    "# Calculer la somme par ligne d’un dataframe\n",
    "result = df.apply(np.sum, axis=1)"
   ]
  },
  {
   "cell_type": "code",
   "execution_count": null,
   "metadata": {},
   "outputs": [],
   "source": [
    "# Mettre dans une nouvelle colonne du dataframe la longueur d’une colonne de type caractère\n",
    "df[\"nouvelle\"] = df[\"Col2\"].apply(len)"
   ]
  },
  {
   "cell_type": "code",
   "execution_count": null,
   "metadata": {},
   "outputs": [],
   "source": [
    "# Mettre dans une nouvelle colonne du dataframe une chaine en majuscule issue d’une autre colonne\n",
    "df[\"nouvelle\"] = df[\"Col2\"].apply(str.upper)"
   ]
  },
  {
   "cell_type": "code",
   "execution_count": null,
   "metadata": {},
   "outputs": [],
   "source": [
    "# Sortir le premier élément d’une liste (split de caractères)\n",
    "df.col1.str.split(',').apply(lambda x: x[0])"
   ]
  },
  {
   "cell_type": "markdown",
   "metadata": {},
   "source": [
    "# Fusionner deux dataframes - concatenation"
   ]
  },
  {
   "cell_type": "code",
   "execution_count": null,
   "metadata": {},
   "outputs": [],
   "source": [
    "# Fusionner 2 dataframes verticalement, qui ont les mêmes colonnes\n",
    "df = pd.concat([df1,df2], ignore_index=True)"
   ]
  },
  {
   "cell_type": "code",
   "execution_count": null,
   "metadata": {},
   "outputs": [],
   "source": [
    "# Fusionner 2 dataframes horizontalement, en faisant la jointure avec les index\n",
    "df = pd.concat([df1,df2], axis=1)"
   ]
  },
  {
   "cell_type": "markdown",
   "metadata": {},
   "source": [
    "# Fusionner deux dataframes - Merge"
   ]
  },
  {
   "cell_type": "code",
   "execution_count": null,
   "metadata": {},
   "outputs": [],
   "source": [
    "# Merger 2 dataframes avec une clé de jointure commune entre les 2 df (et de même nom)\n",
    "pd.merge(df_left, df_right, on=\"key\")"
   ]
  },
  {
   "cell_type": "code",
   "execution_count": null,
   "metadata": {},
   "outputs": [],
   "source": [
    "# Merger 2 dataframes avec une clé de jointure commune entre les 2 df\n",
    "pd.merge(df_left, df_right, left_on=\"key1\", right_on=\"key1\", how='outer')"
   ]
  },
  {
   "cell_type": "code",
   "execution_count": null,
   "metadata": {},
   "outputs": [],
   "source": [
    "# Merger 2 Dataframe, en précisant le type de jointure, la clé de jointure et en renommant les colonnes mergées\n",
    "pd.merge(btc,eth,on='Date',how='inner',suffixes=('_btc','_eth')) # how = 'inner', 'outer'"
   ]
  },
  {
   "cell_type": "markdown",
   "metadata": {},
   "source": [
    "# GroupBy de dataframe - regrouper et aggréger"
   ]
  },
  {
   "cell_type": "code",
   "execution_count": null,
   "metadata": {},
   "outputs": [],
   "source": [
    "# Faire un group by de somme de toutes les colonnes numériques, suivant les valeurs uniques d’une colonne d’un dataframe\n",
    "df.groupby(\"Col1\").sum()"
   ]
  },
  {
   "cell_type": "code",
   "execution_count": null,
   "metadata": {},
   "outputs": [],
   "source": [
    "# Faire un group by de moyenne de toutes les colonnes numériques, suivant les valeurs uniques d’une colonne d’un dataframe\n",
    "df.groupby(\"Col1\").mean()"
   ]
  },
  {
   "cell_type": "code",
   "execution_count": null,
   "metadata": {},
   "outputs": [],
   "source": [
    "# Faire un group by de somme  de toutes les colonnes numériques, suivant les valeurs de deux colonnes de dataframe\n",
    "df.groupby([\"Col1\",\"Col2\"]).sum()"
   ]
  },
  {
   "cell_type": "code",
   "execution_count": null,
   "metadata": {},
   "outputs": [],
   "source": [
    "# Faire un group by de compte de toutes les colonnes numériques, suivant les valeurs d’une colonne d’un dataframe\n",
    "df.groupby(\"Col1\").count()"
   ]
  },
  {
   "cell_type": "code",
   "execution_count": null,
   "metadata": {},
   "outputs": [],
   "source": [
    "# Spécialiser le comptage sur une colonne (ici Col3)\n",
    "df.groupby([\"Col1\",\"Col2\"])[\"Col3\"].sum()"
   ]
  },
  {
   "cell_type": "code",
   "execution_count": null,
   "metadata": {},
   "outputs": [],
   "source": [
    "# Examiner les groupes issus d’un groupby\n",
    "obj = df.groupby('col1')\n",
    "obj.groups\n",
    "for name,group in obj:\n",
    "    print(name,'contains',group.shape[0],'rows')\n",
    "obj.get_group('Tier 1')"
   ]
  },
  {
   "cell_type": "code",
   "execution_count": null,
   "metadata": {},
   "outputs": [],
   "source": [
    "# Faire plusieurs calculs par regroupement\n",
    "df.groupby('col1').agg([np.mean,np.median])"
   ]
  },
  {
   "cell_type": "code",
   "execution_count": null,
   "metadata": {},
   "outputs": [],
   "source": [
    "# Faire des regroupements sur plusieurs colonnes et mettre à plat le tableau (pas de multi-index)\n",
    "df.groupby(['col1','col2'],as_index=False).agg({'col3':np.mean})"
   ]
  },
  {
   "cell_type": "code",
   "execution_count": null,
   "metadata": {},
   "outputs": [],
   "source": [
    "# Faire des regroupements sur plusieurs colonnes, différents calculs sur la même quantité et mettre à plat le tableau\n",
    "df.groupby(['co1','col2'],as_index=False).agg({'col3':[np.mean,np.sum,'count']})"
   ]
  },
  {
   "cell_type": "code",
   "execution_count": null,
   "metadata": {},
   "outputs": [],
   "source": [
    "# Mettre le nom des colonnes à plat avec un group by\n",
    "tab.columns = tab.columns.map(' '.join) # Mise à plat des colonnes multi-index"
   ]
  },
  {
   "cell_type": "code",
   "execution_count": null,
   "metadata": {},
   "outputs": [],
   "source": [
    "# Présenter plus simplement un groupby à plusieurs niveaux\n",
    "titanic.groupby(['Sex', 'Pclass']).Survived.mean().unstack() # Pclass passe de ligne (index niveau2) à colonne"
   ]
  },
  {
   "cell_type": "markdown",
   "metadata": {},
   "source": [
    "# Faire des calcul sur des dataframes séries temporelles"
   ]
  },
  {
   "cell_type": "code",
   "execution_count": null,
   "metadata": {},
   "outputs": [],
   "source": [
    "# Faire un group by de données, suivant une période temporelle (jour, mois, année, …)\n",
    "# Sélection d'un range de date (entre deux années)\n",
    "df.loc['2016':'2019','close'].resample('w').mean()"
   ]
  },
  {
   "cell_type": "code",
   "execution_count": null,
   "metadata": {},
   "outputs": [],
   "source": [
    "# Faire des statistiques suivant les valeurs d’une colonne d’un dataframe\n",
    "df['close'].resample('w').agg(['mean','std','min','max'])"
   ]
  },
  {
   "cell_type": "code",
   "execution_count": null,
   "metadata": {},
   "outputs": [],
   "source": [
    "# Faire une moyenne mobile simple sur 7 jours\n",
    "df.loc['2019','close'].rolling(window=7).mean()"
   ]
  },
  {
   "cell_type": "code",
   "execution_count": null,
   "metadata": {},
   "outputs": [],
   "source": [
    "# Faire une moyenne mobile exponentielle\n",
    "df.loc['2019','close'].ewm(alpha=0.5).mean()"
   ]
  },
  {
   "cell_type": "markdown",
   "metadata": {},
   "source": [
    "# Fonction transform"
   ]
  },
  {
   "cell_type": "code",
   "execution_count": null,
   "metadata": {},
   "outputs": [],
   "source": [
    "# Insérer dans le df initial des aggrégations de group by dans de nouvelles colonnes\n",
    "total_price = orders.groupby('order_id').item_price.transform('sum')\n",
    "# Pour chaque commande, on calcule la somme, et on réinjecte au niveau du détail de la commande"
   ]
  },
  {
   "cell_type": "markdown",
   "metadata": {},
   "source": [
    "# Fonction Stack / unstack"
   ]
  },
  {
   "cell_type": "code",
   "execution_count": null,
   "metadata": {},
   "outputs": [],
   "source": [
    "# Stack : transformer toutes les colonnes en lignes : Intitulé de la colonne et sa valeur\n",
    "df.stack().reset_index()"
   ]
  },
  {
   "cell_type": "code",
   "execution_count": null,
   "metadata": {},
   "outputs": [],
   "source": [
    "# Présenter plus simplement un groupby à plusieurs niveaux\n",
    "titanic.groupby(['Sex', 'Pclass']).Survived.mean().unstack()"
   ]
  },
  {
   "cell_type": "markdown",
   "metadata": {},
   "source": [
    "# Calcul suivant des pivots"
   ]
  },
  {
   "cell_type": "code",
   "execution_count": null,
   "metadata": {},
   "outputs": [],
   "source": [
    "# Faire un calcul de table pivot sur un dataframe, sur 2 valeurs de lignes et 1 valeur de colonne\n",
    "pd.pivot_table(df, values=\"D\", index=[\"Col1\",\"Col2\"], columns=[\"Col3\"]) "
   ]
  },
  {
   "cell_type": "code",
   "execution_count": null,
   "metadata": {},
   "outputs": [],
   "source": [
    "titanic.pivot_table(index='Sex', columns='Pclass', values='Survived', aggfunc='mean')\n",
    "# Même tableau avec les totaux (lignes et colonnes)\n",
    "titanic.pivot_table(index='Sex', columns='Pclass', values='Survived', aggfunc='mean', margins=True)"
   ]
  },
  {
   "cell_type": "markdown",
   "metadata": {},
   "source": [
    "# Création de valeurs dummies (transformation pour les algorithmes de Machine Learning)"
   ]
  },
  {
   "cell_type": "code",
   "execution_count": null,
   "metadata": {},
   "outputs": [],
   "source": [
    "column_x_dummies = pd.get_dummies(df.column_x).iloc[:, 1:]"
   ]
  }
 ],
 "metadata": {
  "kernelspec": {
   "display_name": "Python 3",
   "language": "python",
   "name": "python3"
  },
  "language_info": {
   "codemirror_mode": {
    "name": "ipython",
    "version": 3
   },
   "file_extension": ".py",
   "mimetype": "text/x-python",
   "name": "python",
   "nbconvert_exporter": "python",
   "pygments_lexer": "ipython3",
   "version": "3.7.4"
  }
 },
 "nbformat": 4,
 "nbformat_minor": 2
}
